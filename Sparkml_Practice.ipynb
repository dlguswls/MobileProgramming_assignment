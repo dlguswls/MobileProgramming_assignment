{
  "nbformat": 4,
  "nbformat_minor": 0,
  "metadata": {
    "colab": {
      "name": "Sparkml Practice.ipynb",
      "provenance": [],
      "collapsed_sections": [],
      "authorship_tag": "ABX9TyOTMjde2Lxq1gCs2gcEe//6",
      "include_colab_link": true
    },
    "kernelspec": {
      "name": "python3",
      "display_name": "Python 3"
    },
    "language_info": {
      "name": "python"
    },
    "gpuClass": "standard"
  },
  "cells": [
    {
      "cell_type": "markdown",
      "metadata": {
        "id": "view-in-github",
        "colab_type": "text"
      },
      "source": [
        "<a href=\"https://colab.research.google.com/github/dlguswls/Study/blob/main/Sparkml_Practice.ipynb\" target=\"_parent\"><img src=\"https://colab.research.google.com/assets/colab-badge.svg\" alt=\"Open In Colab\"/></a>"
      ]
    },
    {
      "cell_type": "markdown",
      "source": [
        "# **PySpark Tutorial:**\n",
        " https://www.youtube.com/watch?v=_C8kWso4ne4&t=457s"
      ],
      "metadata": {
        "id": "urOmt2wvbJNe"
      }
    },
    {
      "cell_type": "code",
      "execution_count": 42,
      "metadata": {
        "id": "_GHi2aJ_VmaR",
        "colab": {
          "base_uri": "https://localhost:8080/"
        },
        "outputId": "7efef911-d797-44b0-c7d9-7b40d2a7778a"
      },
      "outputs": [
        {
          "output_type": "stream",
          "name": "stdout",
          "text": [
            "Looking in indexes: https://pypi.org/simple, https://us-python.pkg.dev/colab-wheels/public/simple/\n",
            "Requirement already satisfied: pyspark in /usr/local/lib/python3.7/dist-packages (3.3.0)\n",
            "Requirement already satisfied: py4j==0.10.9.5 in /usr/local/lib/python3.7/dist-packages (from pyspark) (0.10.9.5)\n"
          ]
        }
      ],
      "source": [
        "pip install pyspark"
      ]
    },
    {
      "cell_type": "code",
      "source": [
        "from google.colab import drive\n",
        "drive.mount('/content/drive')"
      ],
      "metadata": {
        "id": "qPwO0L1MVsqx",
        "colab": {
          "base_uri": "https://localhost:8080/"
        },
        "outputId": "c7ce9f8d-6016-4a96-bdb5-71c99e905dec"
      },
      "execution_count": 41,
      "outputs": [
        {
          "output_type": "stream",
          "name": "stdout",
          "text": [
            "Drive already mounted at /content/drive; to attempt to forcibly remount, call drive.mount(\"/content/drive\", force_remount=True).\n"
          ]
        }
      ]
    },
    {
      "cell_type": "markdown",
      "source": [
        "## Tutorial1 - 맛보기"
      ],
      "metadata": {
        "id": "IHQi1I_wcsQt"
      }
    },
    {
      "cell_type": "code",
      "source": [
        "import pyspark"
      ],
      "metadata": {
        "id": "zM0YeXKvV5_8"
      },
      "execution_count": 3,
      "outputs": []
    },
    {
      "cell_type": "code",
      "source": [
        "import pandas as pd\n",
        "pd.read_csv('/content/drive/MyDrive/Study/Spark/data/test1.csv')"
      ],
      "metadata": {
        "id": "8RDuOZ5cV6DK",
        "colab": {
          "base_uri": "https://localhost:8080/",
          "height": 143
        },
        "outputId": "5ed81697-b0ec-4227-e975-9598d3d0e7a1"
      },
      "execution_count": null,
      "outputs": [
        {
          "output_type": "execute_result",
          "data": {
            "text/plain": [
              "         Name  age\n",
              "0       Krish   31\n",
              "1  Sudhandshu   30\n",
              "2       Sunny   29"
            ],
            "text/html": [
              "\n",
              "  <div id=\"df-95a710a3-7dbe-403d-b1cb-884219448d52\">\n",
              "    <div class=\"colab-df-container\">\n",
              "      <div>\n",
              "<style scoped>\n",
              "    .dataframe tbody tr th:only-of-type {\n",
              "        vertical-align: middle;\n",
              "    }\n",
              "\n",
              "    .dataframe tbody tr th {\n",
              "        vertical-align: top;\n",
              "    }\n",
              "\n",
              "    .dataframe thead th {\n",
              "        text-align: right;\n",
              "    }\n",
              "</style>\n",
              "<table border=\"1\" class=\"dataframe\">\n",
              "  <thead>\n",
              "    <tr style=\"text-align: right;\">\n",
              "      <th></th>\n",
              "      <th>Name</th>\n",
              "      <th>age</th>\n",
              "    </tr>\n",
              "  </thead>\n",
              "  <tbody>\n",
              "    <tr>\n",
              "      <th>0</th>\n",
              "      <td>Krish</td>\n",
              "      <td>31</td>\n",
              "    </tr>\n",
              "    <tr>\n",
              "      <th>1</th>\n",
              "      <td>Sudhandshu</td>\n",
              "      <td>30</td>\n",
              "    </tr>\n",
              "    <tr>\n",
              "      <th>2</th>\n",
              "      <td>Sunny</td>\n",
              "      <td>29</td>\n",
              "    </tr>\n",
              "  </tbody>\n",
              "</table>\n",
              "</div>\n",
              "      <button class=\"colab-df-convert\" onclick=\"convertToInteractive('df-95a710a3-7dbe-403d-b1cb-884219448d52')\"\n",
              "              title=\"Convert this dataframe to an interactive table.\"\n",
              "              style=\"display:none;\">\n",
              "        \n",
              "  <svg xmlns=\"http://www.w3.org/2000/svg\" height=\"24px\"viewBox=\"0 0 24 24\"\n",
              "       width=\"24px\">\n",
              "    <path d=\"M0 0h24v24H0V0z\" fill=\"none\"/>\n",
              "    <path d=\"M18.56 5.44l.94 2.06.94-2.06 2.06-.94-2.06-.94-.94-2.06-.94 2.06-2.06.94zm-11 1L8.5 8.5l.94-2.06 2.06-.94-2.06-.94L8.5 2.5l-.94 2.06-2.06.94zm10 10l.94 2.06.94-2.06 2.06-.94-2.06-.94-.94-2.06-.94 2.06-2.06.94z\"/><path d=\"M17.41 7.96l-1.37-1.37c-.4-.4-.92-.59-1.43-.59-.52 0-1.04.2-1.43.59L10.3 9.45l-7.72 7.72c-.78.78-.78 2.05 0 2.83L4 21.41c.39.39.9.59 1.41.59.51 0 1.02-.2 1.41-.59l7.78-7.78 2.81-2.81c.8-.78.8-2.07 0-2.86zM5.41 20L4 18.59l7.72-7.72 1.47 1.35L5.41 20z\"/>\n",
              "  </svg>\n",
              "      </button>\n",
              "      \n",
              "  <style>\n",
              "    .colab-df-container {\n",
              "      display:flex;\n",
              "      flex-wrap:wrap;\n",
              "      gap: 12px;\n",
              "    }\n",
              "\n",
              "    .colab-df-convert {\n",
              "      background-color: #E8F0FE;\n",
              "      border: none;\n",
              "      border-radius: 50%;\n",
              "      cursor: pointer;\n",
              "      display: none;\n",
              "      fill: #1967D2;\n",
              "      height: 32px;\n",
              "      padding: 0 0 0 0;\n",
              "      width: 32px;\n",
              "    }\n",
              "\n",
              "    .colab-df-convert:hover {\n",
              "      background-color: #E2EBFA;\n",
              "      box-shadow: 0px 1px 2px rgba(60, 64, 67, 0.3), 0px 1px 3px 1px rgba(60, 64, 67, 0.15);\n",
              "      fill: #174EA6;\n",
              "    }\n",
              "\n",
              "    [theme=dark] .colab-df-convert {\n",
              "      background-color: #3B4455;\n",
              "      fill: #D2E3FC;\n",
              "    }\n",
              "\n",
              "    [theme=dark] .colab-df-convert:hover {\n",
              "      background-color: #434B5C;\n",
              "      box-shadow: 0px 1px 3px 1px rgba(0, 0, 0, 0.15);\n",
              "      filter: drop-shadow(0px 1px 2px rgba(0, 0, 0, 0.3));\n",
              "      fill: #FFFFFF;\n",
              "    }\n",
              "  </style>\n",
              "\n",
              "      <script>\n",
              "        const buttonEl =\n",
              "          document.querySelector('#df-95a710a3-7dbe-403d-b1cb-884219448d52 button.colab-df-convert');\n",
              "        buttonEl.style.display =\n",
              "          google.colab.kernel.accessAllowed ? 'block' : 'none';\n",
              "\n",
              "        async function convertToInteractive(key) {\n",
              "          const element = document.querySelector('#df-95a710a3-7dbe-403d-b1cb-884219448d52');\n",
              "          const dataTable =\n",
              "            await google.colab.kernel.invokeFunction('convertToInteractive',\n",
              "                                                     [key], {});\n",
              "          if (!dataTable) return;\n",
              "\n",
              "          const docLinkHtml = 'Like what you see? Visit the ' +\n",
              "            '<a target=\"_blank\" href=https://colab.research.google.com/notebooks/data_table.ipynb>data table notebook</a>'\n",
              "            + ' to learn more about interactive tables.';\n",
              "          element.innerHTML = '';\n",
              "          dataTable['output_type'] = 'display_data';\n",
              "          await google.colab.output.renderOutput(dataTable, element);\n",
              "          const docLink = document.createElement('div');\n",
              "          docLink.innerHTML = docLinkHtml;\n",
              "          element.appendChild(docLink);\n",
              "        }\n",
              "      </script>\n",
              "    </div>\n",
              "  </div>\n",
              "  "
            ]
          },
          "metadata": {},
          "execution_count": 13
        }
      ]
    },
    {
      "cell_type": "code",
      "source": [
        "type(pd.read_csv('/content/drive/MyDrive/Study/Spark/data/test1.csv'))"
      ],
      "metadata": {
        "colab": {
          "base_uri": "https://localhost:8080/"
        },
        "id": "vf0FkRN4aRbh",
        "outputId": "5611d418-54a1-4cb9-b1c1-af95dcee8ebb"
      },
      "execution_count": null,
      "outputs": [
        {
          "output_type": "execute_result",
          "data": {
            "text/plain": [
              "pandas.core.frame.DataFrame"
            ]
          },
          "metadata": {},
          "execution_count": 24
        }
      ]
    },
    {
      "cell_type": "code",
      "source": [
        "from pyspark.sql import SparkSession"
      ],
      "metadata": {
        "id": "M_f7GilBWBnL"
      },
      "execution_count": null,
      "outputs": []
    },
    {
      "cell_type": "code",
      "source": [
        "spark = SparkSession.builder.appName('Practice').getOrCreate()"
      ],
      "metadata": {
        "id": "naXPzva0WJIV"
      },
      "execution_count": null,
      "outputs": []
    },
    {
      "cell_type": "code",
      "source": [
        "spark"
      ],
      "metadata": {
        "id": "BYUqJ-EiWNZc",
        "colab": {
          "base_uri": "https://localhost:8080/",
          "height": 222
        },
        "outputId": "7bc0fc68-74ec-41e5-aea5-170ce26e4c12"
      },
      "execution_count": null,
      "outputs": [
        {
          "output_type": "execute_result",
          "data": {
            "text/plain": [
              "<pyspark.sql.session.SparkSession at 0x7f7809c331d0>"
            ],
            "text/html": [
              "\n",
              "            <div>\n",
              "                <p><b>SparkSession - in-memory</b></p>\n",
              "                \n",
              "        <div>\n",
              "            <p><b>SparkContext</b></p>\n",
              "\n",
              "            <p><a href=\"http://42ac20da9f99:4040\">Spark UI</a></p>\n",
              "\n",
              "            <dl>\n",
              "              <dt>Version</dt>\n",
              "                <dd><code>v3.3.0</code></dd>\n",
              "              <dt>Master</dt>\n",
              "                <dd><code>local[*]</code></dd>\n",
              "              <dt>AppName</dt>\n",
              "                <dd><code>Practice</code></dd>\n",
              "            </dl>\n",
              "        </div>\n",
              "        \n",
              "            </div>\n",
              "        "
            ]
          },
          "metadata": {},
          "execution_count": 16
        }
      ]
    },
    {
      "cell_type": "markdown",
      "source": [
        "로컬에서 실행될 때 항상 하나의 클러스터만 된다! 실제 클라우드 작업 시에는 여러 클러스터와 인스턴스 생성 가능"
      ],
      "metadata": {
        "id": "S49M724_XHWJ"
      }
    },
    {
      "cell_type": "code",
      "source": [
        "df_pyspark = spark.read.csv('/content/drive/MyDrive/Study/Spark/data/test1.csv')"
      ],
      "metadata": {
        "id": "DVaobivbWila"
      },
      "execution_count": null,
      "outputs": []
    },
    {
      "cell_type": "code",
      "source": [
        "df_pyspark"
      ],
      "metadata": {
        "colab": {
          "base_uri": "https://localhost:8080/"
        },
        "id": "kb442NmaXpNB",
        "outputId": "7d25ca82-6ad2-494a-bec0-a2465ac72e34"
      },
      "execution_count": null,
      "outputs": [
        {
          "output_type": "execute_result",
          "data": {
            "text/plain": [
              "DataFrame[_c0: string, _c1: string]"
            ]
          },
          "metadata": {},
          "execution_count": 19
        }
      ]
    },
    {
      "cell_type": "code",
      "source": [
        "df_pyspark.show()"
      ],
      "metadata": {
        "colab": {
          "base_uri": "https://localhost:8080/"
        },
        "id": "r-Wgaq2RXxyU",
        "outputId": "b491407a-0d11-4fc5-ae83-f46d9adcb49e"
      },
      "execution_count": null,
      "outputs": [
        {
          "output_type": "stream",
          "name": "stdout",
          "text": [
            "+----------+---+\n",
            "|       _c0|_c1|\n",
            "+----------+---+\n",
            "|      Name|age|\n",
            "|     Krish| 31|\n",
            "|Sudhandshu| 30|\n",
            "|     Sunny| 29|\n",
            "+----------+---+\n",
            "\n"
          ]
        }
      ]
    },
    {
      "cell_type": "code",
      "source": [
        "# 첫 번째 열이 어떤 값이든 헤더로 간주하기\n",
        "df_pyspark = spark.read.option('header', 'true').csv('/content/drive/MyDrive/Study/Spark/data/test1.csv')\n",
        "df_pyspark.show()"
      ],
      "metadata": {
        "colab": {
          "base_uri": "https://localhost:8080/"
        },
        "id": "i1ZKes6WXx04",
        "outputId": "61ed0c99-94bc-48fb-a3af-c8485e86776e"
      },
      "execution_count": null,
      "outputs": [
        {
          "output_type": "stream",
          "name": "stdout",
          "text": [
            "+----------+---+\n",
            "|      Name|age|\n",
            "+----------+---+\n",
            "|     Krish| 31|\n",
            "|Sudhandshu| 30|\n",
            "|     Sunny| 29|\n",
            "+----------+---+\n",
            "\n"
          ]
        }
      ]
    },
    {
      "cell_type": "code",
      "source": [
        "type(df_pyspark)"
      ],
      "metadata": {
        "colab": {
          "base_uri": "https://localhost:8080/"
        },
        "id": "A-E0K4gKXx31",
        "outputId": "abfcb556-0fa1-4961-bf1d-bc67fa2bf37b"
      },
      "execution_count": null,
      "outputs": [
        {
          "output_type": "execute_result",
          "data": {
            "text/plain": [
              "pyspark.sql.dataframe.DataFrame"
            ]
          },
          "metadata": {},
          "execution_count": 23
        }
      ]
    },
    {
      "cell_type": "code",
      "source": [
        "df_pyspark.head(3)"
      ],
      "metadata": {
        "colab": {
          "base_uri": "https://localhost:8080/"
        },
        "id": "9ffmoOB-Xx7N",
        "outputId": "0d75041b-d67a-426d-cebe-b5ba66c17d6d"
      },
      "execution_count": null,
      "outputs": [
        {
          "output_type": "execute_result",
          "data": {
            "text/plain": [
              "[Row(Name='Krish', age='31'),\n",
              " Row(Name='Sudhandshu', age='30'),\n",
              " Row(Name='Sunny', age='29')]"
            ]
          },
          "metadata": {},
          "execution_count": 25
        }
      ]
    },
    {
      "cell_type": "code",
      "source": [
        "df_pyspark.printSchema()"
      ],
      "metadata": {
        "colab": {
          "base_uri": "https://localhost:8080/"
        },
        "id": "SHphyIfwXx9u",
        "outputId": "d8bdc5d1-409e-4160-ff01-a4083ccf139a"
      },
      "execution_count": null,
      "outputs": [
        {
          "output_type": "stream",
          "name": "stdout",
          "text": [
            "root\n",
            " |-- Name: string (nullable = true)\n",
            " |-- age: string (nullable = true)\n",
            "\n"
          ]
        }
      ]
    },
    {
      "cell_type": "markdown",
      "source": [
        "## Tutorial2 - PySpark DataFrame_Part1."
      ],
      "metadata": {
        "id": "8XUUqTuhcw5T"
      }
    },
    {
      "cell_type": "markdown",
      "source": [
        "**From Now On**\n",
        "* PySpark DataFrame\n",
        "* Reading The Dataset\n",
        "* Checking the Datatypes of the Columns(Schema)\n",
        "* Selecting Columns And Indexing\n",
        "* Check Describe option similar to Pandas\n",
        "* Adding Columns\n",
        "* Dropping columns\n",
        "* Renaming Columns"
      ],
      "metadata": {
        "id": "9-ogzyMeauZA"
      }
    },
    {
      "cell_type": "code",
      "source": [
        "## 실습용 데이터프레임 만들기\n",
        "make_dataframe = pd.DataFrame({'Name':['Krish','Sudhanshu','Sunny'],\n",
        "                               'age':[31, 30, 29],\n",
        "                               'Experience':[10, 8, 4]})\n",
        "make_dataframe.to_csv('/content/drive/MyDrive/Study/Spark/data/test1.csv', index = False)"
      ],
      "metadata": {
        "id": "rtVYCkBdXyA5"
      },
      "execution_count": null,
      "outputs": []
    },
    {
      "cell_type": "code",
      "source": [
        "from pyspark.sql import SparkSession\n",
        "\n",
        "spark = SparkSession.builder.appName('Dataframe').getOrCreate()\n",
        "spark"
      ],
      "metadata": {
        "colab": {
          "base_uri": "https://localhost:8080/",
          "height": 222
        },
        "id": "wtgZsy_5cFX6",
        "outputId": "bf3e5d57-b93a-4fce-c877-e2b6b7b11dde"
      },
      "execution_count": null,
      "outputs": [
        {
          "output_type": "execute_result",
          "data": {
            "text/plain": [
              "<pyspark.sql.session.SparkSession at 0x7f7809c331d0>"
            ],
            "text/html": [
              "\n",
              "            <div>\n",
              "                <p><b>SparkSession - in-memory</b></p>\n",
              "                \n",
              "        <div>\n",
              "            <p><b>SparkContext</b></p>\n",
              "\n",
              "            <p><a href=\"http://42ac20da9f99:4040\">Spark UI</a></p>\n",
              "\n",
              "            <dl>\n",
              "              <dt>Version</dt>\n",
              "                <dd><code>v3.3.0</code></dd>\n",
              "              <dt>Master</dt>\n",
              "                <dd><code>local[*]</code></dd>\n",
              "              <dt>AppName</dt>\n",
              "                <dd><code>Practice</code></dd>\n",
              "            </dl>\n",
              "        </div>\n",
              "        \n",
              "            </div>\n",
              "        "
            ]
          },
          "metadata": {},
          "execution_count": 33
        }
      ]
    },
    {
      "cell_type": "markdown",
      "source": [
        "Tutorial1에서 Practice 이름으로 하나 만들어서 다른 이름으로 생성하는 건 안되는 듯"
      ],
      "metadata": {
        "id": "8sYelQTlcd1N"
      }
    },
    {
      "cell_type": "code",
      "source": [
        "## read the dataset1\n",
        "df_pyspark = spark.read.option('header','true').csv('/content/drive/MyDrive/Study/Spark/data/test1.csv')\n",
        "df_pyspark.show()"
      ],
      "metadata": {
        "colab": {
          "base_uri": "https://localhost:8080/"
        },
        "id": "F0x65xfEcFwb",
        "outputId": "6cdc4680-4cc7-4b01-fd87-ac57c9fe1386"
      },
      "execution_count": null,
      "outputs": [
        {
          "output_type": "stream",
          "name": "stdout",
          "text": [
            "+---------+---+----------+\n",
            "|     Name|age|Experience|\n",
            "+---------+---+----------+\n",
            "|    Krish| 31|        10|\n",
            "|Sudhanshu| 30|         8|\n",
            "|    Sunny| 29|         4|\n",
            "+---------+---+----------+\n",
            "\n"
          ]
        }
      ]
    },
    {
      "cell_type": "code",
      "source": [
        "## Check the schema\n",
        "df_pyspark.printSchema()"
      ],
      "metadata": {
        "colab": {
          "base_uri": "https://localhost:8080/"
        },
        "id": "uNEiKyvhcF0f",
        "outputId": "56cd3f6c-f905-4400-fa68-57e9f0e12927"
      },
      "execution_count": null,
      "outputs": [
        {
          "output_type": "stream",
          "name": "stdout",
          "text": [
            "root\n",
            " |-- Name: string (nullable = true)\n",
            " |-- age: string (nullable = true)\n",
            " |-- Experience: string (nullable = true)\n",
            "\n"
          ]
        }
      ]
    },
    {
      "cell_type": "code",
      "source": [
        "# 숫자형도 문자형으로 읽어온다 -> 불러오는 데이터프레임의 모든 기능을 고려하도록 하는 옵션 추가\n",
        "## inferSchema = True\n",
        "df_pyspark = spark.read.option('header','true').csv('/content/drive/MyDrive/Study/Spark/data/test1.csv', inferSchema = True)\n",
        "df_pyspark.show()"
      ],
      "metadata": {
        "colab": {
          "base_uri": "https://localhost:8080/"
        },
        "id": "pzyVp6YCcF7O",
        "outputId": "3c4039be-51dd-4f7c-c6d6-620eb01eb504"
      },
      "execution_count": null,
      "outputs": [
        {
          "output_type": "stream",
          "name": "stdout",
          "text": [
            "+---------+---+----------+\n",
            "|     Name|age|Experience|\n",
            "+---------+---+----------+\n",
            "|    Krish| 31|        10|\n",
            "|Sudhanshu| 30|         8|\n",
            "|    Sunny| 29|         4|\n",
            "+---------+---+----------+\n",
            "\n"
          ]
        }
      ]
    },
    {
      "cell_type": "code",
      "source": [
        "df_pyspark.printSchema()\n",
        "# 숫자형을 integer로 인식!"
      ],
      "metadata": {
        "colab": {
          "base_uri": "https://localhost:8080/"
        },
        "id": "yDU1MMbkcF9b",
        "outputId": "f97258be-eaf7-4465-d457-ee230a4c5414"
      },
      "execution_count": null,
      "outputs": [
        {
          "output_type": "stream",
          "name": "stdout",
          "text": [
            "root\n",
            " |-- Name: string (nullable = true)\n",
            " |-- age: integer (nullable = true)\n",
            " |-- Experience: integer (nullable = true)\n",
            "\n"
          ]
        }
      ]
    },
    {
      "cell_type": "code",
      "source": [
        "## read the dataset2 -- 이 방법이 나은 듯\n",
        "df_pyspark = spark.read.csv('/content/drive/MyDrive/Study/Spark/data/test1.csv', header = True, inferSchema = True)\n",
        "df_pyspark.show()"
      ],
      "metadata": {
        "colab": {
          "base_uri": "https://localhost:8080/"
        },
        "id": "nuM8TfnpcF_-",
        "outputId": "29c4925e-c750-43af-8c2a-82b0b3db994d"
      },
      "execution_count": null,
      "outputs": [
        {
          "output_type": "stream",
          "name": "stdout",
          "text": [
            "+---------+---+----------+\n",
            "|     Name|age|Experience|\n",
            "+---------+---+----------+\n",
            "|    Krish| 31|        10|\n",
            "|Sudhanshu| 30|         8|\n",
            "|    Sunny| 29|         4|\n",
            "+---------+---+----------+\n",
            "\n"
          ]
        }
      ]
    },
    {
      "cell_type": "code",
      "source": [
        "df_pyspark.printSchema()"
      ],
      "metadata": {
        "colab": {
          "base_uri": "https://localhost:8080/"
        },
        "id": "6UXzLaF9eimf",
        "outputId": "6632445c-7aa7-490f-cea6-2d82ae12dd52"
      },
      "execution_count": null,
      "outputs": [
        {
          "output_type": "stream",
          "name": "stdout",
          "text": [
            "root\n",
            " |-- Name: string (nullable = true)\n",
            " |-- age: integer (nullable = true)\n",
            " |-- Experience: integer (nullable = true)\n",
            "\n"
          ]
        }
      ]
    },
    {
      "cell_type": "code",
      "source": [
        "type(df_pyspark)"
      ],
      "metadata": {
        "colab": {
          "base_uri": "https://localhost:8080/"
        },
        "id": "2RMO9QaDepUN",
        "outputId": "a3eb033c-2c3f-4f0f-8fca-cd5be2ddab25"
      },
      "execution_count": null,
      "outputs": [
        {
          "output_type": "execute_result",
          "data": {
            "text/plain": [
              "pyspark.sql.dataframe.DataFrame"
            ]
          },
          "metadata": {},
          "execution_count": 46
        }
      ]
    },
    {
      "cell_type": "code",
      "source": [
        "## Selecting Columns And Indexing\n",
        "df_pyspark.columns"
      ],
      "metadata": {
        "colab": {
          "base_uri": "https://localhost:8080/"
        },
        "id": "2pxYcNZleunI",
        "outputId": "9c1efa2d-82d1-46da-b350-0b6f231df896"
      },
      "execution_count": null,
      "outputs": [
        {
          "output_type": "execute_result",
          "data": {
            "text/plain": [
              "['Name', 'age', 'Experience']"
            ]
          },
          "metadata": {},
          "execution_count": 47
        }
      ]
    },
    {
      "cell_type": "code",
      "source": [
        "# 행 인덱싱1\n",
        "df_pyspark.head(3)"
      ],
      "metadata": {
        "colab": {
          "base_uri": "https://localhost:8080/"
        },
        "id": "5XmePtzve8nj",
        "outputId": "987fdf75-ce1f-4f46-8ac8-c333dbc24743"
      },
      "execution_count": null,
      "outputs": [
        {
          "output_type": "execute_result",
          "data": {
            "text/plain": [
              "[Row(Name='Krish', age=31, Experience=10),\n",
              " Row(Name='Sudhanshu', age=30, Experience=8),\n",
              " Row(Name='Sunny', age=29, Experience=4)]"
            ]
          },
          "metadata": {},
          "execution_count": 48
        }
      ]
    },
    {
      "cell_type": "code",
      "source": [
        "# 열 인덱싱1\n",
        "df_pyspark.select('Name').show()"
      ],
      "metadata": {
        "colab": {
          "base_uri": "https://localhost:8080/"
        },
        "id": "XRe7bEysfBOz",
        "outputId": "af2a56d7-714e-456f-b589-a23b12606a93"
      },
      "execution_count": null,
      "outputs": [
        {
          "output_type": "stream",
          "name": "stdout",
          "text": [
            "+---------+\n",
            "|     Name|\n",
            "+---------+\n",
            "|    Krish|\n",
            "|Sudhanshu|\n",
            "|    Sunny|\n",
            "+---------+\n",
            "\n"
          ]
        }
      ]
    },
    {
      "cell_type": "code",
      "source": [
        "type(df_pyspark.select('Name'))"
      ],
      "metadata": {
        "colab": {
          "base_uri": "https://localhost:8080/"
        },
        "id": "MLJ2kUIefQ7x",
        "outputId": "c593f60c-f48d-41a0-86fe-3ccdfe3d7e60"
      },
      "execution_count": null,
      "outputs": [
        {
          "output_type": "execute_result",
          "data": {
            "text/plain": [
              "pyspark.sql.dataframe.DataFrame"
            ]
          },
          "metadata": {},
          "execution_count": 50
        }
      ]
    },
    {
      "cell_type": "code",
      "source": [
        "# 열 인덱싱2 - 여러 개의 열 선택하기\n",
        "df_pyspark.select(['Name','Experience']).show()"
      ],
      "metadata": {
        "colab": {
          "base_uri": "https://localhost:8080/"
        },
        "id": "PgS8TRZ9fV6-",
        "outputId": "e99ef45a-e45f-427d-fc0c-6aad8e125798"
      },
      "execution_count": null,
      "outputs": [
        {
          "output_type": "stream",
          "name": "stdout",
          "text": [
            "+---------+----------+\n",
            "|     Name|Experience|\n",
            "+---------+----------+\n",
            "|    Krish|        10|\n",
            "|Sudhanshu|         8|\n",
            "|    Sunny|         4|\n",
            "+---------+----------+\n",
            "\n"
          ]
        }
      ]
    },
    {
      "cell_type": "code",
      "source": [
        "df_pyspark['Name']  # 이건 .show()로 데이터셋을 가져올 수가 없다"
      ],
      "metadata": {
        "colab": {
          "base_uri": "https://localhost:8080/"
        },
        "id": "OAORtCORfV-Y",
        "outputId": "be43b97c-ae7d-4b55-d28c-6daf717ad0e4"
      },
      "execution_count": null,
      "outputs": [
        {
          "output_type": "execute_result",
          "data": {
            "text/plain": [
              "Column<'Name'>"
            ]
          },
          "metadata": {},
          "execution_count": 52
        }
      ]
    },
    {
      "cell_type": "code",
      "source": [
        "df_pyspark.dtypes"
      ],
      "metadata": {
        "colab": {
          "base_uri": "https://localhost:8080/"
        },
        "id": "d2Le5HHOfWBi",
        "outputId": "990cb259-da68-4114-eddb-4943f4284465"
      },
      "execution_count": null,
      "outputs": [
        {
          "output_type": "execute_result",
          "data": {
            "text/plain": [
              "[('Name', 'string'), ('age', 'int'), ('Experience', 'int')]"
            ]
          },
          "metadata": {},
          "execution_count": 53
        }
      ]
    },
    {
      "cell_type": "code",
      "source": [
        "## Check Describe option similar to Pandas\n",
        "df_pyspark.describe().show()\n",
        "# 문자열의 최대 최소는 인덱스 값 기준으로 최대, 최소 인덱스에 해당하는 값이 출력됨"
      ],
      "metadata": {
        "colab": {
          "base_uri": "https://localhost:8080/"
        },
        "id": "wRZaL6FifWFV",
        "outputId": "9f10e981-541f-4d80-9c55-d4642c75b401"
      },
      "execution_count": null,
      "outputs": [
        {
          "output_type": "stream",
          "name": "stdout",
          "text": [
            "+-------+-----+----+-----------------+\n",
            "|summary| Name| age|       Experience|\n",
            "+-------+-----+----+-----------------+\n",
            "|  count|    3|   3|                3|\n",
            "|   mean| null|30.0|7.333333333333333|\n",
            "| stddev| null| 1.0|3.055050463303893|\n",
            "|    min|Krish|  29|                4|\n",
            "|    max|Sunny|  31|               10|\n",
            "+-------+-----+----+-----------------+\n",
            "\n"
          ]
        }
      ]
    },
    {
      "cell_type": "code",
      "source": [
        "## Adding & Dropping Columns\n",
        "\n",
        "# 새로운 열 추가하거나 기존 열 교체\n",
        "df_pyspark = df_pyspark.withColumn('Experience After 2 year', df_pyspark['Experience']+2)\n",
        "df_pyspark.show()"
      ],
      "metadata": {
        "colab": {
          "base_uri": "https://localhost:8080/"
        },
        "id": "J91fRJQDfWIb",
        "outputId": "2e4f4af0-7fb9-4380-b452-a411b40f153e"
      },
      "execution_count": null,
      "outputs": [
        {
          "output_type": "stream",
          "name": "stdout",
          "text": [
            "+---------+---+----------+-----------------------+\n",
            "|     Name|age|Experience|Experience After 2 year|\n",
            "+---------+---+----------+-----------------------+\n",
            "|    Krish| 31|        10|                     12|\n",
            "|Sudhanshu| 30|         8|                     10|\n",
            "|    Sunny| 29|         4|                      6|\n",
            "+---------+---+----------+-----------------------+\n",
            "\n"
          ]
        }
      ]
    },
    {
      "cell_type": "code",
      "source": [
        "# 열 삭제하기\n",
        "df_pyspark = df_pyspark.drop('Experience After 2 year')\n",
        "df_pyspark.show()"
      ],
      "metadata": {
        "colab": {
          "base_uri": "https://localhost:8080/"
        },
        "id": "eamkKGKJfWLX",
        "outputId": "e2f18cbb-635f-4cbf-bcf2-b044839015c1"
      },
      "execution_count": null,
      "outputs": [
        {
          "output_type": "stream",
          "name": "stdout",
          "text": [
            "+---------+---+----------+\n",
            "|     Name|age|Experience|\n",
            "+---------+---+----------+\n",
            "|    Krish| 31|        10|\n",
            "|Sudhanshu| 30|         8|\n",
            "|    Sunny| 29|         4|\n",
            "+---------+---+----------+\n",
            "\n"
          ]
        }
      ]
    },
    {
      "cell_type": "code",
      "source": [
        "## Renaming Columns\n",
        "df_pyspark.withColumnRenamed('Name','New Name').show()"
      ],
      "metadata": {
        "colab": {
          "base_uri": "https://localhost:8080/"
        },
        "id": "MhA66PLFk273",
        "outputId": "3cc9a1f1-5cf5-49f8-f627-0dd55dcfcd97"
      },
      "execution_count": null,
      "outputs": [
        {
          "output_type": "stream",
          "name": "stdout",
          "text": [
            "+---------+---+----------+\n",
            "| New Name|age|Experience|\n",
            "+---------+---+----------+\n",
            "|    Krish| 31|        10|\n",
            "|Sudhanshu| 30|         8|\n",
            "|    Sunny| 29|         4|\n",
            "+---------+---+----------+\n",
            "\n"
          ]
        }
      ]
    },
    {
      "cell_type": "markdown",
      "source": [
        "## Tutorial3 - Pyspark Dataframe_Handling Missing Values"
      ],
      "metadata": {
        "id": "srXPaQ36lajT"
      }
    },
    {
      "cell_type": "markdown",
      "source": [
        "**From Now On**\n",
        "* Dropping Columns\n",
        "* Dropping Rows\n",
        "* Various Parameter in Dropping functionalities\n",
        "* Handling Missing vlaues by Mean, Median, Mode"
      ],
      "metadata": {
        "id": "AhVb32RGlgq8"
      }
    },
    {
      "cell_type": "code",
      "source": [
        "from pyspark.sql import SparkSession\n",
        "\n",
        "spark = SparkSession.builder.appName('Practice').getOrCreate()\n",
        "spark"
      ],
      "metadata": {
        "colab": {
          "base_uri": "https://localhost:8080/",
          "height": 222
        },
        "id": "Y4isjvrjlO8X",
        "outputId": "86446202-f3ad-4a93-ca86-b19c97d646db"
      },
      "execution_count": null,
      "outputs": [
        {
          "output_type": "execute_result",
          "data": {
            "text/plain": [
              "<pyspark.sql.session.SparkSession at 0x7f7809c331d0>"
            ],
            "text/html": [
              "\n",
              "            <div>\n",
              "                <p><b>SparkSession - in-memory</b></p>\n",
              "                \n",
              "        <div>\n",
              "            <p><b>SparkContext</b></p>\n",
              "\n",
              "            <p><a href=\"http://42ac20da9f99:4040\">Spark UI</a></p>\n",
              "\n",
              "            <dl>\n",
              "              <dt>Version</dt>\n",
              "                <dd><code>v3.3.0</code></dd>\n",
              "              <dt>Master</dt>\n",
              "                <dd><code>local[*]</code></dd>\n",
              "              <dt>AppName</dt>\n",
              "                <dd><code>Practice</code></dd>\n",
              "            </dl>\n",
              "        </div>\n",
              "        \n",
              "            </div>\n",
              "        "
            ]
          },
          "metadata": {},
          "execution_count": 67
        }
      ]
    },
    {
      "cell_type": "code",
      "source": [
        "## 실습용 데이터프레임 만들기\n",
        "import numpy as np\n",
        "make_dataframe = pd.DataFrame({'Name':['Krish','Sudhanshu','Sunny','Paul','Harsha','Shubbam','Mahesh', np.NaN,np.NaN],\n",
        "                               'age':[31, 30, 29,24, 21, 23, np.NaN, 34, 36],\n",
        "                               'Experience':[10, 8, 4, 3, 1, 2, np.NaN, 10, np.NaN],\n",
        "                               'Salary': [30000,25000,20000,20000,15000,18000,40000,38000,np.NaN]})\n",
        "make_dataframe.to_csv('/content/drive/MyDrive/Study/Spark/data/test2.csv', index = False)"
      ],
      "metadata": {
        "id": "-RcxHcT2mFeJ"
      },
      "execution_count": null,
      "outputs": []
    },
    {
      "cell_type": "code",
      "source": [
        "df_pyspark = spark.read.csv('/content/drive/MyDrive/Study/Spark/data/test2.csv',header = True, inferSchema = True)\n",
        "df_pyspark.show()"
      ],
      "metadata": {
        "colab": {
          "base_uri": "https://localhost:8080/"
        },
        "id": "LQBJcWwQmuT_",
        "outputId": "d0659854-8e60-4042-bf1e-3f8e765a2b8f"
      },
      "execution_count": null,
      "outputs": [
        {
          "output_type": "stream",
          "name": "stdout",
          "text": [
            "+---------+----+----------+-------+\n",
            "|     Name| age|Experience| Salary|\n",
            "+---------+----+----------+-------+\n",
            "|    Krish|31.0|      10.0|30000.0|\n",
            "|Sudhanshu|30.0|       8.0|25000.0|\n",
            "|    Sunny|29.0|       4.0|20000.0|\n",
            "|     Paul|24.0|       3.0|20000.0|\n",
            "|   Harsha|21.0|       1.0|15000.0|\n",
            "|  Shubbam|23.0|       2.0|18000.0|\n",
            "|   Mahesh|null|      null|40000.0|\n",
            "|     null|34.0|      10.0|38000.0|\n",
            "|     null|36.0|      null|   null|\n",
            "+---------+----+----------+-------+\n",
            "\n"
          ]
        }
      ]
    },
    {
      "cell_type": "code",
      "source": [
        "## Dropping Columns\n",
        "df_pyspark.drop('Name').show()"
      ],
      "metadata": {
        "colab": {
          "base_uri": "https://localhost:8080/"
        },
        "id": "mJehp96BnMGA",
        "outputId": "53743510-be27-4b3a-ff73-30874c7957a7"
      },
      "execution_count": null,
      "outputs": [
        {
          "output_type": "stream",
          "name": "stdout",
          "text": [
            "+----+----------+-------+\n",
            "| age|Experience| Salary|\n",
            "+----+----------+-------+\n",
            "|31.0|      10.0|30000.0|\n",
            "|30.0|       8.0|25000.0|\n",
            "|29.0|       4.0|20000.0|\n",
            "|24.0|       3.0|20000.0|\n",
            "|21.0|       1.0|15000.0|\n",
            "|23.0|       2.0|18000.0|\n",
            "|null|      null|40000.0|\n",
            "|34.0|      10.0|38000.0|\n",
            "|36.0|      null|   null|\n",
            "+----+----------+-------+\n",
            "\n"
          ]
        }
      ]
    },
    {
      "cell_type": "code",
      "source": [
        "## Dropping Rows\n",
        "df_pyspark.na.drop().show()  # null 값이 존재하는 모든 행 삭제"
      ],
      "metadata": {
        "colab": {
          "base_uri": "https://localhost:8080/"
        },
        "id": "YmSTTPDInZZ-",
        "outputId": "801e4397-0909-48c4-9a18-f759844b7fae"
      },
      "execution_count": null,
      "outputs": [
        {
          "output_type": "stream",
          "name": "stdout",
          "text": [
            "+---------+----+----------+-------+\n",
            "|     Name| age|Experience| Salary|\n",
            "+---------+----+----------+-------+\n",
            "|    Krish|31.0|      10.0|30000.0|\n",
            "|Sudhanshu|30.0|       8.0|25000.0|\n",
            "|    Sunny|29.0|       4.0|20000.0|\n",
            "|     Paul|24.0|       3.0|20000.0|\n",
            "|   Harsha|21.0|       1.0|15000.0|\n",
            "|  Shubbam|23.0|       2.0|18000.0|\n",
            "+---------+----+----------+-------+\n",
            "\n"
          ]
        }
      ]
    },
    {
      "cell_type": "code",
      "source": [
        "df_pyspark.na.drop(how = 'all').show()  \n",
        "# any : 하나라도 null값이 있으면 삭제\n",
        "# all : 모든 값이 null이면 삭제"
      ],
      "metadata": {
        "colab": {
          "base_uri": "https://localhost:8080/"
        },
        "id": "IN48VQLmnoeU",
        "outputId": "60942fcd-948b-4fa1-8f23-bd420a0bd0ea"
      },
      "execution_count": null,
      "outputs": [
        {
          "output_type": "stream",
          "name": "stdout",
          "text": [
            "+---------+----+----------+-------+\n",
            "|     Name| age|Experience| Salary|\n",
            "+---------+----+----------+-------+\n",
            "|    Krish|31.0|      10.0|30000.0|\n",
            "|Sudhanshu|30.0|       8.0|25000.0|\n",
            "|    Sunny|29.0|       4.0|20000.0|\n",
            "|     Paul|24.0|       3.0|20000.0|\n",
            "|   Harsha|21.0|       1.0|15000.0|\n",
            "|  Shubbam|23.0|       2.0|18000.0|\n",
            "|   Mahesh|null|      null|40000.0|\n",
            "|     null|34.0|      10.0|38000.0|\n",
            "|     null|36.0|      null|   null|\n",
            "+---------+----+----------+-------+\n",
            "\n"
          ]
        }
      ]
    },
    {
      "cell_type": "code",
      "source": [
        "# threshold(임계값) 설정\n",
        "df_pyspark.na.drop(how = 'any', thresh = 2).show()  \n",
        "# any, thresh = 2 : null이 아닌 값이 최소한 두 개 있어야 한다 -> 마지막 줄만 삭제"
      ],
      "metadata": {
        "colab": {
          "base_uri": "https://localhost:8080/"
        },
        "id": "gkYOyLyLoE3M",
        "outputId": "c14afdfd-5f51-4684-9867-6e1b05f56060"
      },
      "execution_count": null,
      "outputs": [
        {
          "output_type": "stream",
          "name": "stdout",
          "text": [
            "+---------+----+----------+-------+\n",
            "|     Name| age|Experience| Salary|\n",
            "+---------+----+----------+-------+\n",
            "|    Krish|31.0|      10.0|30000.0|\n",
            "|Sudhanshu|30.0|       8.0|25000.0|\n",
            "|    Sunny|29.0|       4.0|20000.0|\n",
            "|     Paul|24.0|       3.0|20000.0|\n",
            "|   Harsha|21.0|       1.0|15000.0|\n",
            "|  Shubbam|23.0|       2.0|18000.0|\n",
            "|   Mahesh|null|      null|40000.0|\n",
            "|     null|34.0|      10.0|38000.0|\n",
            "+---------+----+----------+-------+\n",
            "\n"
          ]
        }
      ]
    },
    {
      "cell_type": "code",
      "source": [
        "# subset\n",
        "df_pyspark.na.drop(how = 'any', subset = ['Experience']).show()    \n",
        "# Experience 열에 null이 있는 행 삭제"
      ],
      "metadata": {
        "colab": {
          "base_uri": "https://localhost:8080/"
        },
        "id": "OtpWBqaYoqOX",
        "outputId": "90557fd1-6fc1-4621-bde2-f3d1cea5190b"
      },
      "execution_count": null,
      "outputs": [
        {
          "output_type": "stream",
          "name": "stdout",
          "text": [
            "+---------+----+----------+-------+\n",
            "|     Name| age|Experience| Salary|\n",
            "+---------+----+----------+-------+\n",
            "|    Krish|31.0|      10.0|30000.0|\n",
            "|Sudhanshu|30.0|       8.0|25000.0|\n",
            "|    Sunny|29.0|       4.0|20000.0|\n",
            "|     Paul|24.0|       3.0|20000.0|\n",
            "|   Harsha|21.0|       1.0|15000.0|\n",
            "|  Shubbam|23.0|       2.0|18000.0|\n",
            "|     null|34.0|      10.0|38000.0|\n",
            "+---------+----+----------+-------+\n",
            "\n"
          ]
        }
      ]
    },
    {
      "cell_type": "code",
      "source": [
        "## Filing the Missing Value\n",
        "# null 값을 대체할 값의 타입과 동일한 타입을 가진 열의 null값만 대체된다! \n",
        "df_pyspark.na.fill('Missing Values').show()"
      ],
      "metadata": {
        "colab": {
          "base_uri": "https://localhost:8080/"
        },
        "id": "FBN4GG_6pRhl",
        "outputId": "fd98a5ec-e85e-440d-cd86-a191432d19fa"
      },
      "execution_count": null,
      "outputs": [
        {
          "output_type": "stream",
          "name": "stdout",
          "text": [
            "+--------------+----+----------+-------+\n",
            "|          Name| age|Experience| Salary|\n",
            "+--------------+----+----------+-------+\n",
            "|         Krish|31.0|      10.0|30000.0|\n",
            "|     Sudhanshu|30.0|       8.0|25000.0|\n",
            "|         Sunny|29.0|       4.0|20000.0|\n",
            "|          Paul|24.0|       3.0|20000.0|\n",
            "|        Harsha|21.0|       1.0|15000.0|\n",
            "|       Shubbam|23.0|       2.0|18000.0|\n",
            "|        Mahesh|null|      null|40000.0|\n",
            "|Missing Values|34.0|      10.0|38000.0|\n",
            "|Missing Values|36.0|      null|   null|\n",
            "+--------------+----+----------+-------+\n",
            "\n"
          ]
        }
      ]
    },
    {
      "cell_type": "code",
      "source": [
        "df_pyspark.na.fill(0, ['Experience','age']).show() # integer type이니까 integer값으로 대체 값 설정"
      ],
      "metadata": {
        "colab": {
          "base_uri": "https://localhost:8080/"
        },
        "id": "-2Zy7UMYpnhA",
        "outputId": "6c9ed71b-7981-4ebf-91e6-491489dadac0"
      },
      "execution_count": null,
      "outputs": [
        {
          "output_type": "stream",
          "name": "stdout",
          "text": [
            "+---------+----+----------+-------+\n",
            "|     Name| age|Experience| Salary|\n",
            "+---------+----+----------+-------+\n",
            "|    Krish|31.0|      10.0|30000.0|\n",
            "|Sudhanshu|30.0|       8.0|25000.0|\n",
            "|    Sunny|29.0|       4.0|20000.0|\n",
            "|     Paul|24.0|       3.0|20000.0|\n",
            "|   Harsha|21.0|       1.0|15000.0|\n",
            "|  Shubbam|23.0|       2.0|18000.0|\n",
            "|   Mahesh| 0.0|       0.0|40000.0|\n",
            "|     null|34.0|      10.0|38000.0|\n",
            "|     null|36.0|       0.0|   null|\n",
            "+---------+----+----------+-------+\n",
            "\n"
          ]
        }
      ]
    },
    {
      "cell_type": "code",
      "source": [
        "df_pyspark.na.fill({'Experience': 50,'age': 50,'Name':'unknown'}).show()   # 대체할 null 값을 컬럼별로 지정하기"
      ],
      "metadata": {
        "colab": {
          "base_uri": "https://localhost:8080/"
        },
        "id": "qwEIpz9B8q-J",
        "outputId": "a4bf81a4-177e-469a-9e4d-5f7a0f62fe25"
      },
      "execution_count": null,
      "outputs": [
        {
          "output_type": "stream",
          "name": "stdout",
          "text": [
            "+---------+----+----------+-------+\n",
            "|     Name| age|Experience| Salary|\n",
            "+---------+----+----------+-------+\n",
            "|    Krish|31.0|      10.0|30000.0|\n",
            "|Sudhanshu|30.0|       8.0|25000.0|\n",
            "|    Sunny|29.0|       4.0|20000.0|\n",
            "|     Paul|24.0|       3.0|20000.0|\n",
            "|   Harsha|21.0|       1.0|15000.0|\n",
            "|  Shubbam|23.0|       2.0|18000.0|\n",
            "|   Mahesh|50.0|      50.0|40000.0|\n",
            "|  unknown|34.0|      10.0|38000.0|\n",
            "|  unknown|36.0|      50.0|   null|\n",
            "+---------+----+----------+-------+\n",
            "\n"
          ]
        }
      ]
    },
    {
      "cell_type": "code",
      "source": [
        "## Handling Missing vlaues by Mean, Median, Mode\n",
        "from pyspark.ml.feature import Imputer\n",
        "\n",
        "imputer = Imputer(\n",
        "    inputCols = ['age','Experience','Salary'],\n",
        "    outputCols = ['{}_imputed'.format(c) for c in ['age','Experience','Salary']]).setStrategy(\"mean\")\n",
        "# setStrategy값을 median, mode 등으로 바꾸는것에 따라 null값이 대체되는 값이 달라짐"
      ],
      "metadata": {
        "id": "fmCihy6Ov9jW"
      },
      "execution_count": null,
      "outputs": []
    },
    {
      "cell_type": "code",
      "source": [
        "imputer"
      ],
      "metadata": {
        "colab": {
          "base_uri": "https://localhost:8080/"
        },
        "id": "hIOz96m_yARN",
        "outputId": "6abe03f3-aaf7-4412-a383-1c5f81d89cf7"
      },
      "execution_count": null,
      "outputs": [
        {
          "output_type": "execute_result",
          "data": {
            "text/plain": [
              "Imputer_c8c6dff7994a"
            ]
          },
          "metadata": {},
          "execution_count": 102
        }
      ]
    },
    {
      "cell_type": "code",
      "source": [
        "# Add imputation cols go df\n",
        "imputer.fit(df_pyspark).transform(df_pyspark).show()  \n",
        "# null 값이 mean값으로 대체된 결과가 _imputed 열에 출력"
      ],
      "metadata": {
        "colab": {
          "base_uri": "https://localhost:8080/"
        },
        "id": "lC7elYsPxOYU",
        "outputId": "3e80627f-08db-40b5-f313-ab390762707e"
      },
      "execution_count": null,
      "outputs": [
        {
          "output_type": "stream",
          "name": "stdout",
          "text": [
            "+---------+----+----------+-------+-----------+------------------+--------------+\n",
            "|     Name| age|Experience| Salary|age_imputed|Experience_imputed|Salary_imputed|\n",
            "+---------+----+----------+-------+-----------+------------------+--------------+\n",
            "|    Krish|31.0|      10.0|30000.0|       31.0|              10.0|       30000.0|\n",
            "|Sudhanshu|30.0|       8.0|25000.0|       30.0|               8.0|       25000.0|\n",
            "|    Sunny|29.0|       4.0|20000.0|       29.0|               4.0|       20000.0|\n",
            "|     Paul|24.0|       3.0|20000.0|       24.0|               3.0|       20000.0|\n",
            "|   Harsha|21.0|       1.0|15000.0|       21.0|               1.0|       15000.0|\n",
            "|  Shubbam|23.0|       2.0|18000.0|       23.0|               2.0|       18000.0|\n",
            "|   Mahesh|null|      null|40000.0|       28.5| 5.428571428571429|       40000.0|\n",
            "|     null|34.0|      10.0|38000.0|       34.0|              10.0|       38000.0|\n",
            "|     null|36.0|      null|   null|       36.0| 5.428571428571429|       25750.0|\n",
            "+---------+----+----------+-------+-----------+------------------+--------------+\n",
            "\n"
          ]
        }
      ]
    },
    {
      "cell_type": "markdown",
      "source": [
        "## Tutorial4 - Pyspark Dataframes_Filter operation"
      ],
      "metadata": {
        "id": "DPE8IFL4z__u"
      }
    },
    {
      "cell_type": "markdown",
      "source": [
        "**From Now On**\n",
        "* Filter Operation\n",
        "* &, |, ==\n",
        "* ~"
      ],
      "metadata": {
        "id": "yGqn448p0Ehw"
      }
    },
    {
      "cell_type": "markdown",
      "source": [
        ""
      ],
      "metadata": {
        "id": "Od8Voah39pFi"
      }
    },
    {
      "cell_type": "code",
      "source": [
        "## 실습용 데이터프레임 만들기\n",
        "import numpy as np\n",
        "make_dataframe = pd.DataFrame({'Name':['Krish','Sudhanshu','Sunny','Paul','Harsha','Shubbam'],\n",
        "                               'age':[31, 30, 29, 24, 21, 23],\n",
        "                               'Experience':[10, 8, 4, 3, 1, 2],\n",
        "                               'Salary': [30000,25000,20000,20000,15000,18000]})\n",
        "make_dataframe.to_csv('/content/drive/MyDrive/Study/Spark/data/test1.csv', index = False)"
      ],
      "metadata": {
        "id": "unIAx6JyxcZy"
      },
      "execution_count": null,
      "outputs": []
    },
    {
      "cell_type": "code",
      "source": [
        "from pyspark.sql import SparkSession\n",
        "\n",
        "spark = SparkSession.builder.appName('Practice').getOrCreate()\n",
        "spark"
      ],
      "metadata": {
        "colab": {
          "base_uri": "https://localhost:8080/",
          "height": 222
        },
        "id": "r3gdin0U9dBH",
        "outputId": "7d462b5f-3858-4179-f3b5-8d0ee8b01937"
      },
      "execution_count": null,
      "outputs": [
        {
          "output_type": "execute_result",
          "data": {
            "text/plain": [
              "<pyspark.sql.session.SparkSession at 0x7f7809c331d0>"
            ],
            "text/html": [
              "\n",
              "            <div>\n",
              "                <p><b>SparkSession - in-memory</b></p>\n",
              "                \n",
              "        <div>\n",
              "            <p><b>SparkContext</b></p>\n",
              "\n",
              "            <p><a href=\"http://42ac20da9f99:4040\">Spark UI</a></p>\n",
              "\n",
              "            <dl>\n",
              "              <dt>Version</dt>\n",
              "                <dd><code>v3.3.0</code></dd>\n",
              "              <dt>Master</dt>\n",
              "                <dd><code>local[*]</code></dd>\n",
              "              <dt>AppName</dt>\n",
              "                <dd><code>Practice</code></dd>\n",
              "            </dl>\n",
              "        </div>\n",
              "        \n",
              "            </div>\n",
              "        "
            ]
          },
          "metadata": {},
          "execution_count": 107
        }
      ]
    },
    {
      "cell_type": "code",
      "source": [
        "df_pyspark = spark.read.csv('/content/drive/MyDrive/Study/Spark/data/test1.csv',header = True, inferSchema = True)\n",
        "df_pyspark.show()"
      ],
      "metadata": {
        "colab": {
          "base_uri": "https://localhost:8080/"
        },
        "id": "4MXeSjK_9TuW",
        "outputId": "afee33d1-59a4-4e84-b133-0b123630901a"
      },
      "execution_count": null,
      "outputs": [
        {
          "output_type": "stream",
          "name": "stdout",
          "text": [
            "+---------+---+----------+------+\n",
            "|     Name|age|Experience|Salary|\n",
            "+---------+---+----------+------+\n",
            "|    Krish| 31|        10| 30000|\n",
            "|Sudhanshu| 30|         8| 25000|\n",
            "|    Sunny| 29|         4| 20000|\n",
            "|     Paul| 24|         3| 20000|\n",
            "|   Harsha| 21|         1| 15000|\n",
            "|  Shubbam| 23|         2| 18000|\n",
            "+---------+---+----------+------+\n",
            "\n"
          ]
        }
      ]
    },
    {
      "cell_type": "markdown",
      "source": [
        "Filter Operation"
      ],
      "metadata": {
        "id": "9UvihZzM9pul"
      }
    },
    {
      "cell_type": "code",
      "source": [
        "### Salary of the people less than or equal to 20000\n",
        "df_pyspark.filter(\"Salary<=20000\").show()"
      ],
      "metadata": {
        "colab": {
          "base_uri": "https://localhost:8080/"
        },
        "id": "S2uDMSvu9W_8",
        "outputId": "24badd9a-0db4-4df0-e092-585bd7317c43"
      },
      "execution_count": null,
      "outputs": [
        {
          "output_type": "stream",
          "name": "stdout",
          "text": [
            "+-------+---+----------+------+\n",
            "|   Name|age|Experience|Salary|\n",
            "+-------+---+----------+------+\n",
            "|  Sunny| 29|         4| 20000|\n",
            "|   Paul| 24|         3| 20000|\n",
            "| Harsha| 21|         1| 15000|\n",
            "|Shubbam| 23|         2| 18000|\n",
            "+-------+---+----------+------+\n",
            "\n"
          ]
        }
      ]
    },
    {
      "cell_type": "code",
      "source": [
        "df_pyspark.filter(\"Salary<=20000\").select(['Name','age']).show()"
      ],
      "metadata": {
        "colab": {
          "base_uri": "https://localhost:8080/"
        },
        "id": "5CABi3439zmP",
        "outputId": "d63f38f6-8068-4213-e85b-c329db793dac"
      },
      "execution_count": null,
      "outputs": [
        {
          "output_type": "stream",
          "name": "stdout",
          "text": [
            "+-------+---+\n",
            "|   Name|age|\n",
            "+-------+---+\n",
            "|  Sunny| 29|\n",
            "|   Paul| 24|\n",
            "| Harsha| 21|\n",
            "|Shubbam| 23|\n",
            "+-------+---+\n",
            "\n"
          ]
        }
      ]
    },
    {
      "cell_type": "code",
      "source": [
        "df_pyspark.filter(df_pyspark['Salary']<=20000).show()"
      ],
      "metadata": {
        "colab": {
          "base_uri": "https://localhost:8080/"
        },
        "id": "HK7J-ewG98ZD",
        "outputId": "df677094-7bdc-48ae-8602-eb3b45d11760"
      },
      "execution_count": null,
      "outputs": [
        {
          "output_type": "stream",
          "name": "stdout",
          "text": [
            "+-------+---+----------+------+\n",
            "|   Name|age|Experience|Salary|\n",
            "+-------+---+----------+------+\n",
            "|  Sunny| 29|         4| 20000|\n",
            "|   Paul| 24|         3| 20000|\n",
            "| Harsha| 21|         1| 15000|\n",
            "|Shubbam| 23|         2| 18000|\n",
            "+-------+---+----------+------+\n",
            "\n"
          ]
        }
      ]
    },
    {
      "cell_type": "code",
      "source": [
        "df_pyspark.filter((df_pyspark['Salary']<=20000) & (df_pyspark['Salary']>=15000)).show()"
      ],
      "metadata": {
        "colab": {
          "base_uri": "https://localhost:8080/"
        },
        "id": "oQ7VaZ4T-HsI",
        "outputId": "6744fabb-9903-4e29-aef0-a4c46dad344a"
      },
      "execution_count": null,
      "outputs": [
        {
          "output_type": "stream",
          "name": "stdout",
          "text": [
            "+-------+---+----------+------+\n",
            "|   Name|age|Experience|Salary|\n",
            "+-------+---+----------+------+\n",
            "|  Sunny| 29|         4| 20000|\n",
            "|   Paul| 24|         3| 20000|\n",
            "| Harsha| 21|         1| 15000|\n",
            "|Shubbam| 23|         2| 18000|\n",
            "+-------+---+----------+------+\n",
            "\n"
          ]
        }
      ]
    },
    {
      "cell_type": "code",
      "source": [
        "df_pyspark.filter((df_pyspark['Salary']<=20000) | (df_pyspark['Salary']>=15000)).show()"
      ],
      "metadata": {
        "colab": {
          "base_uri": "https://localhost:8080/"
        },
        "id": "RTXu_6l2-RhO",
        "outputId": "ccf4e381-c40d-43e3-e1cc-b531aab948af"
      },
      "execution_count": null,
      "outputs": [
        {
          "output_type": "stream",
          "name": "stdout",
          "text": [
            "+---------+---+----------+------+\n",
            "|     Name|age|Experience|Salary|\n",
            "+---------+---+----------+------+\n",
            "|    Krish| 31|        10| 30000|\n",
            "|Sudhanshu| 30|         8| 25000|\n",
            "|    Sunny| 29|         4| 20000|\n",
            "|     Paul| 24|         3| 20000|\n",
            "|   Harsha| 21|         1| 15000|\n",
            "|  Shubbam| 23|         2| 18000|\n",
            "+---------+---+----------+------+\n",
            "\n"
          ]
        }
      ]
    },
    {
      "cell_type": "code",
      "source": [
        "df_pyspark.filter(~(df_pyspark['Salary']<=20000)).show()"
      ],
      "metadata": {
        "colab": {
          "base_uri": "https://localhost:8080/"
        },
        "id": "QK5lgveb-YZg",
        "outputId": "8e3f4330-bee7-4fe0-9a8f-cabfc803cdfb"
      },
      "execution_count": null,
      "outputs": [
        {
          "output_type": "stream",
          "name": "stdout",
          "text": [
            "+---------+---+----------+------+\n",
            "|     Name|age|Experience|Salary|\n",
            "+---------+---+----------+------+\n",
            "|    Krish| 31|        10| 30000|\n",
            "|Sudhanshu| 30|         8| 25000|\n",
            "+---------+---+----------+------+\n",
            "\n"
          ]
        }
      ]
    },
    {
      "cell_type": "markdown",
      "source": [
        "## Tutorial5 - Pyspart with Python_GroupBy And Aggregate Functions"
      ],
      "metadata": {
        "id": "2iQ7NPCW-xXM"
      }
    },
    {
      "cell_type": "code",
      "source": [
        "## 실습용 데이터프레임 만들기\n",
        "import pandas as pd\n",
        "\n",
        "make_dataframe = pd.DataFrame({'Name':['Krish','Krish', 'Mahesh', 'Krish', 'Mahesh','Sudhanshu','Sudhanshu', 'Sudhanshu', 'Sunny', 'Sunny'],\n",
        "                               'Departments':['Data Science','IOT','Big Data','Big Data','Data Science', 'Data Science', 'IOT','Big Data','Data Science','Big Data'],\n",
        "                               'Salary': [10000, 5000, 4000, 4000, 3000, 20000, 10000, 5000, 10000, 2000]})\n",
        "make_dataframe.to_csv('/content/drive/MyDrive/Study/Spark/data/test3.csv', index = False)"
      ],
      "metadata": {
        "id": "xp3oR3M7-snZ"
      },
      "execution_count": 4,
      "outputs": []
    },
    {
      "cell_type": "code",
      "source": [
        "from pyspark.sql import SparkSession\n",
        "\n",
        "spark = SparkSession.builder.appName('Practice').getOrCreate()\n",
        "spark"
      ],
      "metadata": {
        "colab": {
          "base_uri": "https://localhost:8080/",
          "height": 222
        },
        "id": "0s-oNek1_mR3",
        "outputId": "a6c016d7-c1c3-47b1-8ced-9b6dc4b20cf3"
      },
      "execution_count": 5,
      "outputs": [
        {
          "output_type": "execute_result",
          "data": {
            "text/plain": [
              "<pyspark.sql.session.SparkSession at 0x7fe72bef3cd0>"
            ],
            "text/html": [
              "\n",
              "            <div>\n",
              "                <p><b>SparkSession - in-memory</b></p>\n",
              "                \n",
              "        <div>\n",
              "            <p><b>SparkContext</b></p>\n",
              "\n",
              "            <p><a href=\"http://68155cd01d0c:4040\">Spark UI</a></p>\n",
              "\n",
              "            <dl>\n",
              "              <dt>Version</dt>\n",
              "                <dd><code>v3.3.0</code></dd>\n",
              "              <dt>Master</dt>\n",
              "                <dd><code>local[*]</code></dd>\n",
              "              <dt>AppName</dt>\n",
              "                <dd><code>Practice</code></dd>\n",
              "            </dl>\n",
              "        </div>\n",
              "        \n",
              "            </div>\n",
              "        "
            ]
          },
          "metadata": {},
          "execution_count": 5
        }
      ]
    },
    {
      "cell_type": "code",
      "source": [
        "df_pyspark = spark.read.csv('/content/drive/MyDrive/Study/Spark/data/test3.csv',header = True, inferSchema = True)\n",
        "df_pyspark.show()"
      ],
      "metadata": {
        "colab": {
          "base_uri": "https://localhost:8080/"
        },
        "id": "YNwmg1sg_xwb",
        "outputId": "454faff2-9c9c-4baf-91d0-6adb3188e768"
      },
      "execution_count": 6,
      "outputs": [
        {
          "output_type": "stream",
          "name": "stdout",
          "text": [
            "+---------+------------+------+\n",
            "|     Name| Departments|Salary|\n",
            "+---------+------------+------+\n",
            "|    Krish|Data Science| 10000|\n",
            "|    Krish|         IOT|  5000|\n",
            "|   Mahesh|    Big Data|  4000|\n",
            "|    Krish|    Big Data|  4000|\n",
            "|   Mahesh|Data Science|  3000|\n",
            "|Sudhanshu|Data Science| 20000|\n",
            "|Sudhanshu|         IOT| 10000|\n",
            "|Sudhanshu|    Big Data|  5000|\n",
            "|    Sunny|Data Science| 10000|\n",
            "|    Sunny|    Big Data|  2000|\n",
            "+---------+------------+------+\n",
            "\n"
          ]
        }
      ]
    },
    {
      "cell_type": "code",
      "source": [
        "df_pyspark.printSchema()"
      ],
      "metadata": {
        "id": "Joyxqa9m_zvG",
        "colab": {
          "base_uri": "https://localhost:8080/"
        },
        "outputId": "a3d1acd4-f9bf-4c79-ae24-e879b487783a"
      },
      "execution_count": 7,
      "outputs": [
        {
          "output_type": "stream",
          "name": "stdout",
          "text": [
            "root\n",
            " |-- Name: string (nullable = true)\n",
            " |-- Departments: string (nullable = true)\n",
            " |-- Salary: integer (nullable = true)\n",
            "\n"
          ]
        }
      ]
    },
    {
      "cell_type": "code",
      "source": [
        "## Groupby\n",
        "\n",
        "# Grouped to find the maximum salary\n",
        "df_pyspark.groupBy('Name').sum().show()"
      ],
      "metadata": {
        "colab": {
          "base_uri": "https://localhost:8080/"
        },
        "id": "xPS4Q5VQxVsB",
        "outputId": "219cac53-6d71-4d5a-c1ef-59a8542b71c6"
      },
      "execution_count": 10,
      "outputs": [
        {
          "output_type": "stream",
          "name": "stdout",
          "text": [
            "+---------+-----------+\n",
            "|     Name|sum(Salary)|\n",
            "+---------+-----------+\n",
            "|Sudhanshu|      35000|\n",
            "|    Sunny|      12000|\n",
            "|    Krish|      19000|\n",
            "|   Mahesh|       7000|\n",
            "+---------+-----------+\n",
            "\n"
          ]
        }
      ]
    },
    {
      "cell_type": "code",
      "source": [
        "df_pyspark.groupBy('Name').min().show()"
      ],
      "metadata": {
        "colab": {
          "base_uri": "https://localhost:8080/"
        },
        "id": "q3RNNvZHyiW7",
        "outputId": "19cfa546-2cc1-4c24-bfd6-52dab1d79bad"
      },
      "execution_count": 16,
      "outputs": [
        {
          "output_type": "stream",
          "name": "stdout",
          "text": [
            "+---------+-----------+\n",
            "|     Name|min(Salary)|\n",
            "+---------+-----------+\n",
            "|Sudhanshu|       5000|\n",
            "|    Sunny|       2000|\n",
            "|    Krish|       4000|\n",
            "|   Mahesh|       3000|\n",
            "+---------+-----------+\n",
            "\n"
          ]
        }
      ]
    },
    {
      "cell_type": "code",
      "source": [
        "df_pyspark.groupBy('Name').avg().show()"
      ],
      "metadata": {
        "colab": {
          "base_uri": "https://localhost:8080/"
        },
        "id": "Muiu2LKzyvwg",
        "outputId": "ee1410a8-2892-48db-9af6-d03f81473509"
      },
      "execution_count": 17,
      "outputs": [
        {
          "output_type": "stream",
          "name": "stdout",
          "text": [
            "+---------+------------------+\n",
            "|     Name|       avg(Salary)|\n",
            "+---------+------------------+\n",
            "|Sudhanshu|11666.666666666666|\n",
            "|    Sunny|            6000.0|\n",
            "|    Krish| 6333.333333333333|\n",
            "|   Mahesh|            3500.0|\n",
            "+---------+------------------+\n",
            "\n"
          ]
        }
      ]
    },
    {
      "cell_type": "code",
      "source": [
        "# Groupby Departments which gives maximum salary\n",
        "df_pyspark.groupBy('Departments').sum().show()"
      ],
      "metadata": {
        "colab": {
          "base_uri": "https://localhost:8080/"
        },
        "id": "0XvdVpGyxe3w",
        "outputId": "b31e5f4b-3ca5-4738-8916-bdc61c88a5d7"
      },
      "execution_count": 12,
      "outputs": [
        {
          "output_type": "stream",
          "name": "stdout",
          "text": [
            "+------------+-----------+\n",
            "| Departments|sum(Salary)|\n",
            "+------------+-----------+\n",
            "|         IOT|      15000|\n",
            "|    Big Data|      15000|\n",
            "|Data Science|      43000|\n",
            "+------------+-----------+\n",
            "\n"
          ]
        }
      ]
    },
    {
      "cell_type": "code",
      "source": [
        "df_pyspark.groupBy('Departments').mean().show()"
      ],
      "metadata": {
        "colab": {
          "base_uri": "https://localhost:8080/"
        },
        "id": "aBvzKQr6x-cJ",
        "outputId": "0a6e01b1-07db-4211-8d4c-069acd33e108"
      },
      "execution_count": 13,
      "outputs": [
        {
          "output_type": "stream",
          "name": "stdout",
          "text": [
            "+------------+-----------+\n",
            "| Departments|avg(Salary)|\n",
            "+------------+-----------+\n",
            "|         IOT|     7500.0|\n",
            "|    Big Data|     3750.0|\n",
            "|Data Science|    10750.0|\n",
            "+------------+-----------+\n",
            "\n"
          ]
        }
      ]
    },
    {
      "cell_type": "code",
      "source": [
        "df_pyspark.groupBy('Departments').count().show()"
      ],
      "metadata": {
        "colab": {
          "base_uri": "https://localhost:8080/"
        },
        "id": "OFA8mEXzyLJj",
        "outputId": "45ecd524-9bdb-451e-99f0-8abf2d3206be"
      },
      "execution_count": 14,
      "outputs": [
        {
          "output_type": "stream",
          "name": "stdout",
          "text": [
            "+------------+-----+\n",
            "| Departments|count|\n",
            "+------------+-----+\n",
            "|         IOT|    2|\n",
            "|    Big Data|    4|\n",
            "|Data Science|    4|\n",
            "+------------+-----+\n",
            "\n"
          ]
        }
      ]
    },
    {
      "cell_type": "code",
      "source": [
        "df_pyspark.agg({'Salary':'sum'}).show()"
      ],
      "metadata": {
        "colab": {
          "base_uri": "https://localhost:8080/"
        },
        "id": "aaZx-iPLyPHn",
        "outputId": "973b2868-e65a-434e-c50f-29a0e7e34367"
      },
      "execution_count": 18,
      "outputs": [
        {
          "output_type": "stream",
          "name": "stdout",
          "text": [
            "+-----------+\n",
            "|sum(Salary)|\n",
            "+-----------+\n",
            "|      73000|\n",
            "+-----------+\n",
            "\n"
          ]
        }
      ]
    },
    {
      "cell_type": "markdown",
      "source": [
        "## Tutorial6 - Example Of Pyspark ML"
      ],
      "metadata": {
        "id": "oN9_rhk7y-tN"
      }
    },
    {
      "cell_type": "markdown",
      "source": [
        "https://spark.apache.org/examples.html"
      ],
      "metadata": {
        "id": "bjI3pzZVzRmU"
      }
    },
    {
      "cell_type": "code",
      "source": [
        "## 실습용 데이터프레임 만들기\n",
        "import pandas as pd\n",
        "\n",
        "make_dataframe = pd.DataFrame({'Name':['Krish','Sudhanshu', 'Sunny', 'Paul', 'Harsha','Shubham'],\n",
        "                               'age':[31, 30, 29, 24, 21, 23],\n",
        "                               'Experience':[10, 8, 4, 3, 1, 2],\n",
        "                               'Salary': [30000, 25000, 20000, 20000, 15000, 18000]})\n",
        "make_dataframe.to_csv('/content/drive/MyDrive/Study/Spark/data/test1.csv', index = False)"
      ],
      "metadata": {
        "id": "ODAAbDB7y_Ok"
      },
      "execution_count": 19,
      "outputs": []
    },
    {
      "cell_type": "code",
      "source": [
        "from pyspark.sql import SparkSession\n",
        "\n",
        "spark = SparkSession.builder.appName('Practice').getOrCreate()\n",
        "spark"
      ],
      "metadata": {
        "colab": {
          "base_uri": "https://localhost:8080/",
          "height": 222
        },
        "id": "tigCCm-Iy_R4",
        "outputId": "c4e45550-9ecd-40a3-db13-22dbafd48818"
      },
      "execution_count": 21,
      "outputs": [
        {
          "output_type": "execute_result",
          "data": {
            "text/plain": [
              "<pyspark.sql.session.SparkSession at 0x7fe72bef3cd0>"
            ],
            "text/html": [
              "\n",
              "            <div>\n",
              "                <p><b>SparkSession - in-memory</b></p>\n",
              "                \n",
              "        <div>\n",
              "            <p><b>SparkContext</b></p>\n",
              "\n",
              "            <p><a href=\"http://68155cd01d0c:4040\">Spark UI</a></p>\n",
              "\n",
              "            <dl>\n",
              "              <dt>Version</dt>\n",
              "                <dd><code>v3.3.0</code></dd>\n",
              "              <dt>Master</dt>\n",
              "                <dd><code>local[*]</code></dd>\n",
              "              <dt>AppName</dt>\n",
              "                <dd><code>Practice</code></dd>\n",
              "            </dl>\n",
              "        </div>\n",
              "        \n",
              "            </div>\n",
              "        "
            ]
          },
          "metadata": {},
          "execution_count": 21
        }
      ]
    },
    {
      "cell_type": "code",
      "source": [
        "training = spark.read.csv('/content/drive/MyDrive/Study/Spark/data/test1.csv',header = True, inferSchema = True)\n",
        "training.show()"
      ],
      "metadata": {
        "colab": {
          "base_uri": "https://localhost:8080/"
        },
        "id": "TFo5aeg4y_Uk",
        "outputId": "6360b517-e2b4-4e40-bdde-d08df948e440"
      },
      "execution_count": 22,
      "outputs": [
        {
          "output_type": "stream",
          "name": "stdout",
          "text": [
            "+---------+---+----------+------+\n",
            "|     Name|age|Experience|Salary|\n",
            "+---------+---+----------+------+\n",
            "|    Krish| 31|        10| 30000|\n",
            "|Sudhanshu| 30|         8| 25000|\n",
            "|    Sunny| 29|         4| 20000|\n",
            "|     Paul| 24|         3| 20000|\n",
            "|   Harsha| 21|         1| 15000|\n",
            "|  Shubham| 23|         2| 18000|\n",
            "+---------+---+----------+------+\n",
            "\n"
          ]
        }
      ]
    },
    {
      "cell_type": "code",
      "source": [
        "training.printSchema()"
      ],
      "metadata": {
        "colab": {
          "base_uri": "https://localhost:8080/"
        },
        "id": "airCvZPiy_Xh",
        "outputId": "cbad6a50-06cf-4221-b69b-0a386bb04358"
      },
      "execution_count": 23,
      "outputs": [
        {
          "output_type": "stream",
          "name": "stdout",
          "text": [
            "root\n",
            " |-- Name: string (nullable = true)\n",
            " |-- age: integer (nullable = true)\n",
            " |-- Experience: integer (nullable = true)\n",
            " |-- Salary: integer (nullable = true)\n",
            "\n"
          ]
        }
      ]
    },
    {
      "cell_type": "code",
      "source": [
        "training.columns"
      ],
      "metadata": {
        "colab": {
          "base_uri": "https://localhost:8080/"
        },
        "id": "HsO_HUS-0oD4",
        "outputId": "70bbd1ba-72f1-4154-a690-7458d141bb1f"
      },
      "execution_count": 24,
      "outputs": [
        {
          "output_type": "execute_result",
          "data": {
            "text/plain": [
              "['Name', 'age', 'Experience', 'Salary']"
            ]
          },
          "metadata": {},
          "execution_count": 24
        }
      ]
    },
    {
      "cell_type": "markdown",
      "source": [
        "['Age', 'Experience'] --> new feature --> independent feature"
      ],
      "metadata": {
        "id": "XTXuTbO306mV"
      }
    },
    {
      "cell_type": "code",
      "source": [
        "from pyspark.ml.feature import VectorAssembler\n",
        "featureassembler = VectorAssembler(inputCols = ['age','Experience'], outputCol = 'Independent Features')"
      ],
      "metadata": {
        "id": "qXnLk0z10qRQ"
      },
      "execution_count": 25,
      "outputs": []
    },
    {
      "cell_type": "code",
      "source": [
        "output = featureassembler.transform(training)"
      ],
      "metadata": {
        "id": "8W3CPDIp0qUY"
      },
      "execution_count": 26,
      "outputs": []
    },
    {
      "cell_type": "code",
      "source": [
        "output.show()"
      ],
      "metadata": {
        "colab": {
          "base_uri": "https://localhost:8080/"
        },
        "id": "aIw7BjcH0qYG",
        "outputId": "43c57d20-2fdf-4cd3-beda-21fc1b06e194"
      },
      "execution_count": 27,
      "outputs": [
        {
          "output_type": "stream",
          "name": "stdout",
          "text": [
            "+---------+---+----------+------+--------------------+\n",
            "|     Name|age|Experience|Salary|Independent Features|\n",
            "+---------+---+----------+------+--------------------+\n",
            "|    Krish| 31|        10| 30000|         [31.0,10.0]|\n",
            "|Sudhanshu| 30|         8| 25000|          [30.0,8.0]|\n",
            "|    Sunny| 29|         4| 20000|          [29.0,4.0]|\n",
            "|     Paul| 24|         3| 20000|          [24.0,3.0]|\n",
            "|   Harsha| 21|         1| 15000|          [21.0,1.0]|\n",
            "|  Shubham| 23|         2| 18000|          [23.0,2.0]|\n",
            "+---------+---+----------+------+--------------------+\n",
            "\n"
          ]
        }
      ]
    },
    {
      "cell_type": "code",
      "source": [
        "output.columns"
      ],
      "metadata": {
        "colab": {
          "base_uri": "https://localhost:8080/"
        },
        "id": "ICFEbmFM0qch",
        "outputId": "5444312d-0a59-4657-ce2c-d03c05354b0a"
      },
      "execution_count": 29,
      "outputs": [
        {
          "output_type": "execute_result",
          "data": {
            "text/plain": [
              "['Name', 'age', 'Experience', 'Salary', 'Independent Features']"
            ]
          },
          "metadata": {},
          "execution_count": 29
        }
      ]
    },
    {
      "cell_type": "code",
      "source": [
        "finalized_data = output.select(\"Independent Features\",'Salary')"
      ],
      "metadata": {
        "id": "Lza8lWu00qf3"
      },
      "execution_count": 30,
      "outputs": []
    },
    {
      "cell_type": "code",
      "source": [
        "finalized_data.show()"
      ],
      "metadata": {
        "colab": {
          "base_uri": "https://localhost:8080/"
        },
        "id": "4flzU1Lm1kHI",
        "outputId": "308f36d2-d67e-4a15-d3b8-ae7ec8defd7e"
      },
      "execution_count": 31,
      "outputs": [
        {
          "output_type": "stream",
          "name": "stdout",
          "text": [
            "+--------------------+------+\n",
            "|Independent Features|Salary|\n",
            "+--------------------+------+\n",
            "|         [31.0,10.0]| 30000|\n",
            "|          [30.0,8.0]| 25000|\n",
            "|          [29.0,4.0]| 20000|\n",
            "|          [24.0,3.0]| 20000|\n",
            "|          [21.0,1.0]| 15000|\n",
            "|          [23.0,2.0]| 18000|\n",
            "+--------------------+------+\n",
            "\n"
          ]
        }
      ]
    },
    {
      "cell_type": "code",
      "source": [
        "from pyspark.ml.regression import LinearRegression\n",
        "train_data, test_data = finalized_data.randomSplit([0.75, 0.25])\n",
        "regressor = LinearRegression(featuresCol = \"Independent Features\", labelCol = 'Salary')\n",
        "regressor = regressor.fit(train_data)"
      ],
      "metadata": {
        "id": "7yMJ5Mqn1lWI"
      },
      "execution_count": 34,
      "outputs": []
    },
    {
      "cell_type": "code",
      "source": [
        "# Coefficients\n",
        "regressor.coefficients"
      ],
      "metadata": {
        "colab": {
          "base_uri": "https://localhost:8080/"
        },
        "id": "tHQMPOXn1pt2",
        "outputId": "4e6a0d95-0c82-4900-cd37-6d3e9143f5eb"
      },
      "execution_count": 35,
      "outputs": [
        {
          "output_type": "execute_result",
          "data": {
            "text/plain": [
              "DenseVector([555.5556, 714.2857])"
            ]
          },
          "metadata": {},
          "execution_count": 35
        }
      ]
    },
    {
      "cell_type": "code",
      "source": [
        "regressor.intercept  # 절편"
      ],
      "metadata": {
        "colab": {
          "base_uri": "https://localhost:8080/"
        },
        "id": "M3eImapH7606",
        "outputId": "4cbd547c-7a38-4386-f2fe-b81cf4f8bc4f"
      },
      "execution_count": 36,
      "outputs": [
        {
          "output_type": "execute_result",
          "data": {
            "text/plain": [
              "2619.047619047663"
            ]
          },
          "metadata": {},
          "execution_count": 36
        }
      ]
    },
    {
      "cell_type": "code",
      "source": [
        "pred_results = regressor.evaluate(test_data)"
      ],
      "metadata": {
        "id": "vwb9OZEu8HY1"
      },
      "execution_count": 37,
      "outputs": []
    },
    {
      "cell_type": "code",
      "source": [
        "pred_results.predictions.show()"
      ],
      "metadata": {
        "colab": {
          "base_uri": "https://localhost:8080/"
        },
        "id": "7OVu24XT8Xm5",
        "outputId": "692ffb28-453f-440c-f615-8c0e96121296"
      },
      "execution_count": 38,
      "outputs": [
        {
          "output_type": "stream",
          "name": "stdout",
          "text": [
            "+--------------------+------+------------------+\n",
            "|Independent Features|Salary|        prediction|\n",
            "+--------------------+------+------------------+\n",
            "|          [23.0,2.0]| 18000| 16825.39682539683|\n",
            "|          [24.0,3.0]| 20000|  18095.2380952381|\n",
            "|          [29.0,4.0]| 20000|21587.301587301583|\n",
            "|         [31.0,10.0]| 30000|26984.126984126975|\n",
            "+--------------------+------+------------------+\n",
            "\n"
          ]
        }
      ]
    },
    {
      "cell_type": "code",
      "source": [
        "pred_results.meanAbsoluteError, pred_results.meanSquaredError"
      ],
      "metadata": {
        "colab": {
          "base_uri": "https://localhost:8080/"
        },
        "id": "-THCH0kQ8cfx",
        "outputId": "e12728d6-0259-474b-9c31-bc1029aa70bd"
      },
      "execution_count": 40,
      "outputs": [
        {
          "output_type": "execute_result",
          "data": {
            "text/plain": [
              "(1920.6349206349196, 4155706.727135302)"
            ]
          },
          "metadata": {},
          "execution_count": 40
        }
      ]
    },
    {
      "cell_type": "markdown",
      "source": [
        "# **PySpark Tutorial: Spark SQL & DataFrame Basics**\n",
        "https://www.youtube.com/watch?v=3-pnWVWyH-s"
      ],
      "metadata": {
        "id": "5n8HGO6YJDpU"
      }
    },
    {
      "cell_type": "code",
      "source": [
        "!apt-get install openjdk-8-jdk-headless -qq > /dev/null\n",
        "!wget -q http://archive.apache.org/dist/spark/spark-3.1.1/spark-3.1.1-bin-hadoop3.2.tgz\n",
        "!tar xf spark-3.1.1-bin-hadoop3.2.tgz\n",
        "!pip install -q findspark"
      ],
      "metadata": {
        "id": "SgNlop4p8vka"
      },
      "execution_count": 43,
      "outputs": []
    },
    {
      "cell_type": "code",
      "source": [
        "import os\n",
        "os.environ[\"JAVA_HOME\"] = \"/usr/lib/jvm/java-8-openjdk-amd64\"\n",
        "os.environ[\"SPARK_HOME\"] = \"/content/spark-3.1.1-bin-hadoop3.2\""
      ],
      "metadata": {
        "id": "ZirZJo9Xkshr"
      },
      "execution_count": 44,
      "outputs": []
    },
    {
      "cell_type": "code",
      "source": [
        "import os\n",
        "os.environ[\"JAVA_HOME\"] = \"/usr/lib/jvm/java-8-openjdk-amd64\"\n",
        "os.environ[\"SPARK_HOME\"] = \"/content/spark-3.1.1-bin-hadoop3.2\"\n",
        "import findspark\n",
        "findspark.init()\n",
        "from pyspark.sql import SparkSession\n",
        "spark = SparkSession.builder.master(\"local[*]\").getOrCreate()\n",
        "spark.conf.set(\"spark.sql.repl.eagerEval.enabled\", True) # Property used to format output tables better\n",
        "spark"
      ],
      "metadata": {
        "colab": {
          "base_uri": "https://localhost:8080/",
          "height": 222
        },
        "id": "G0JxzeXSlAc3",
        "outputId": "40edf98a-2480-4262-a5a7-dc0863385f53"
      },
      "execution_count": 45,
      "outputs": [
        {
          "output_type": "execute_result",
          "data": {
            "text/plain": [
              "<pyspark.sql.session.SparkSession at 0x7fe72bef3cd0>"
            ],
            "text/html": [
              "\n",
              "            <div>\n",
              "                <p><b>SparkSession - in-memory</b></p>\n",
              "                \n",
              "        <div>\n",
              "            <p><b>SparkContext</b></p>\n",
              "\n",
              "            <p><a href=\"http://68155cd01d0c:4040\">Spark UI</a></p>\n",
              "\n",
              "            <dl>\n",
              "              <dt>Version</dt>\n",
              "                <dd><code>v3.3.0</code></dd>\n",
              "              <dt>Master</dt>\n",
              "                <dd><code>local[*]</code></dd>\n",
              "              <dt>AppName</dt>\n",
              "                <dd><code>Practice</code></dd>\n",
              "            </dl>\n",
              "        </div>\n",
              "        \n",
              "            </div>\n",
              "        "
            ]
          },
          "metadata": {},
          "execution_count": 45
        }
      ]
    },
    {
      "cell_type": "code",
      "source": [
        "# Load the csv into a dataframe\n",
        "titanic_df = spark.read.csv(\"/content/drive/MyDrive/Study/Spark/data/train.csv\", header=True, inferSchema=True)\n",
        "titanic_df"
      ],
      "metadata": {
        "colab": {
          "base_uri": "https://localhost:8080/",
          "height": 529
        },
        "id": "E4yJ97dQmHCr",
        "outputId": "58d5ae0f-8920-4f61-fbfb-5a241c1f76c4"
      },
      "execution_count": 47,
      "outputs": [
        {
          "output_type": "execute_result",
          "data": {
            "text/plain": [
              "+-----------+--------+------+--------------------+------+----+-----+-----+----------------+-------+-----+--------+\n",
              "|PassengerId|Survived|Pclass|                Name|   Sex| Age|SibSp|Parch|          Ticket|   Fare|Cabin|Embarked|\n",
              "+-----------+--------+------+--------------------+------+----+-----+-----+----------------+-------+-----+--------+\n",
              "|          1|       0|     3|Braund, Mr. Owen ...|  male|22.0|    1|    0|       A/5 21171|   7.25| null|       S|\n",
              "|          2|       1|     1|Cumings, Mrs. Joh...|female|38.0|    1|    0|        PC 17599|71.2833|  C85|       C|\n",
              "|          3|       1|     3|Heikkinen, Miss. ...|female|26.0|    0|    0|STON/O2. 3101282|  7.925| null|       S|\n",
              "|          4|       1|     1|Futrelle, Mrs. Ja...|female|35.0|    1|    0|          113803|   53.1| C123|       S|\n",
              "|          5|       0|     3|Allen, Mr. Willia...|  male|35.0|    0|    0|          373450|   8.05| null|       S|\n",
              "|          6|       0|     3|    Moran, Mr. James|  male|null|    0|    0|          330877| 8.4583| null|       Q|\n",
              "|          7|       0|     1|McCarthy, Mr. Tim...|  male|54.0|    0|    0|           17463|51.8625|  E46|       S|\n",
              "|          8|       0|     3|Palsson, Master. ...|  male| 2.0|    3|    1|          349909| 21.075| null|       S|\n",
              "|          9|       1|     3|Johnson, Mrs. Osc...|female|27.0|    0|    2|          347742|11.1333| null|       S|\n",
              "|         10|       1|     2|Nasser, Mrs. Nich...|female|14.0|    1|    0|          237736|30.0708| null|       C|\n",
              "|         11|       1|     3|Sandstrom, Miss. ...|female| 4.0|    1|    1|         PP 9549|   16.7|   G6|       S|\n",
              "|         12|       1|     1|Bonnell, Miss. El...|female|58.0|    0|    0|          113783|  26.55| C103|       S|\n",
              "|         13|       0|     3|Saundercock, Mr. ...|  male|20.0|    0|    0|       A/5. 2151|   8.05| null|       S|\n",
              "|         14|       0|     3|Andersson, Mr. An...|  male|39.0|    1|    5|          347082| 31.275| null|       S|\n",
              "|         15|       0|     3|Vestrom, Miss. Hu...|female|14.0|    0|    0|          350406| 7.8542| null|       S|\n",
              "|         16|       1|     2|Hewlett, Mrs. (Ma...|female|55.0|    0|    0|          248706|   16.0| null|       S|\n",
              "|         17|       0|     3|Rice, Master. Eugene|  male| 2.0|    4|    1|          382652| 29.125| null|       Q|\n",
              "|         18|       1|     2|Williams, Mr. Cha...|  male|null|    0|    0|          244373|   13.0| null|       S|\n",
              "|         19|       0|     3|Vander Planke, Mr...|female|31.0|    1|    0|          345763|   18.0| null|       S|\n",
              "|         20|       1|     3|Masselmani, Mrs. ...|female|null|    0|    0|            2649|  7.225| null|       C|\n",
              "+-----------+--------+------+--------------------+------+----+-----+-----+----------------+-------+-----+--------+\n",
              "only showing top 20 rows"
            ],
            "text/html": [
              "<table border='1'>\n",
              "<tr><th>PassengerId</th><th>Survived</th><th>Pclass</th><th>Name</th><th>Sex</th><th>Age</th><th>SibSp</th><th>Parch</th><th>Ticket</th><th>Fare</th><th>Cabin</th><th>Embarked</th></tr>\n",
              "<tr><td>1</td><td>0</td><td>3</td><td>Braund, Mr. Owen ...</td><td>male</td><td>22.0</td><td>1</td><td>0</td><td>A/5 21171</td><td>7.25</td><td>null</td><td>S</td></tr>\n",
              "<tr><td>2</td><td>1</td><td>1</td><td>Cumings, Mrs. Joh...</td><td>female</td><td>38.0</td><td>1</td><td>0</td><td>PC 17599</td><td>71.2833</td><td>C85</td><td>C</td></tr>\n",
              "<tr><td>3</td><td>1</td><td>3</td><td>Heikkinen, Miss. ...</td><td>female</td><td>26.0</td><td>0</td><td>0</td><td>STON/O2. 3101282</td><td>7.925</td><td>null</td><td>S</td></tr>\n",
              "<tr><td>4</td><td>1</td><td>1</td><td>Futrelle, Mrs. Ja...</td><td>female</td><td>35.0</td><td>1</td><td>0</td><td>113803</td><td>53.1</td><td>C123</td><td>S</td></tr>\n",
              "<tr><td>5</td><td>0</td><td>3</td><td>Allen, Mr. Willia...</td><td>male</td><td>35.0</td><td>0</td><td>0</td><td>373450</td><td>8.05</td><td>null</td><td>S</td></tr>\n",
              "<tr><td>6</td><td>0</td><td>3</td><td>Moran, Mr. James</td><td>male</td><td>null</td><td>0</td><td>0</td><td>330877</td><td>8.4583</td><td>null</td><td>Q</td></tr>\n",
              "<tr><td>7</td><td>0</td><td>1</td><td>McCarthy, Mr. Tim...</td><td>male</td><td>54.0</td><td>0</td><td>0</td><td>17463</td><td>51.8625</td><td>E46</td><td>S</td></tr>\n",
              "<tr><td>8</td><td>0</td><td>3</td><td>Palsson, Master. ...</td><td>male</td><td>2.0</td><td>3</td><td>1</td><td>349909</td><td>21.075</td><td>null</td><td>S</td></tr>\n",
              "<tr><td>9</td><td>1</td><td>3</td><td>Johnson, Mrs. Osc...</td><td>female</td><td>27.0</td><td>0</td><td>2</td><td>347742</td><td>11.1333</td><td>null</td><td>S</td></tr>\n",
              "<tr><td>10</td><td>1</td><td>2</td><td>Nasser, Mrs. Nich...</td><td>female</td><td>14.0</td><td>1</td><td>0</td><td>237736</td><td>30.0708</td><td>null</td><td>C</td></tr>\n",
              "<tr><td>11</td><td>1</td><td>3</td><td>Sandstrom, Miss. ...</td><td>female</td><td>4.0</td><td>1</td><td>1</td><td>PP 9549</td><td>16.7</td><td>G6</td><td>S</td></tr>\n",
              "<tr><td>12</td><td>1</td><td>1</td><td>Bonnell, Miss. El...</td><td>female</td><td>58.0</td><td>0</td><td>0</td><td>113783</td><td>26.55</td><td>C103</td><td>S</td></tr>\n",
              "<tr><td>13</td><td>0</td><td>3</td><td>Saundercock, Mr. ...</td><td>male</td><td>20.0</td><td>0</td><td>0</td><td>A/5. 2151</td><td>8.05</td><td>null</td><td>S</td></tr>\n",
              "<tr><td>14</td><td>0</td><td>3</td><td>Andersson, Mr. An...</td><td>male</td><td>39.0</td><td>1</td><td>5</td><td>347082</td><td>31.275</td><td>null</td><td>S</td></tr>\n",
              "<tr><td>15</td><td>0</td><td>3</td><td>Vestrom, Miss. Hu...</td><td>female</td><td>14.0</td><td>0</td><td>0</td><td>350406</td><td>7.8542</td><td>null</td><td>S</td></tr>\n",
              "<tr><td>16</td><td>1</td><td>2</td><td>Hewlett, Mrs. (Ma...</td><td>female</td><td>55.0</td><td>0</td><td>0</td><td>248706</td><td>16.0</td><td>null</td><td>S</td></tr>\n",
              "<tr><td>17</td><td>0</td><td>3</td><td>Rice, Master. Eugene</td><td>male</td><td>2.0</td><td>4</td><td>1</td><td>382652</td><td>29.125</td><td>null</td><td>Q</td></tr>\n",
              "<tr><td>18</td><td>1</td><td>2</td><td>Williams, Mr. Cha...</td><td>male</td><td>null</td><td>0</td><td>0</td><td>244373</td><td>13.0</td><td>null</td><td>S</td></tr>\n",
              "<tr><td>19</td><td>0</td><td>3</td><td>Vander Planke, Mr...</td><td>female</td><td>31.0</td><td>1</td><td>0</td><td>345763</td><td>18.0</td><td>null</td><td>S</td></tr>\n",
              "<tr><td>20</td><td>1</td><td>3</td><td>Masselmani, Mrs. ...</td><td>female</td><td>null</td><td>0</td><td>0</td><td>2649</td><td>7.225</td><td>null</td><td>C</td></tr>\n",
              "</table>\n",
              "only showing top 20 rows\n"
            ]
          },
          "metadata": {},
          "execution_count": 47
        }
      ]
    },
    {
      "cell_type": "code",
      "source": [
        "titanic_df.printSchema()"
      ],
      "metadata": {
        "colab": {
          "base_uri": "https://localhost:8080/"
        },
        "id": "IyW41D_imHId",
        "outputId": "a52674c8-f74f-4d07-a012-08fcc8be82af"
      },
      "execution_count": 50,
      "outputs": [
        {
          "output_type": "stream",
          "name": "stdout",
          "text": [
            "root\n",
            " |-- PassengerId: integer (nullable = true)\n",
            " |-- Survived: integer (nullable = true)\n",
            " |-- Pclass: integer (nullable = true)\n",
            " |-- Name: string (nullable = true)\n",
            " |-- Sex: string (nullable = true)\n",
            " |-- Age: double (nullable = true)\n",
            " |-- SibSp: integer (nullable = true)\n",
            " |-- Parch: integer (nullable = true)\n",
            " |-- Ticket: string (nullable = true)\n",
            " |-- Fare: double (nullable = true)\n",
            " |-- Cabin: string (nullable = true)\n",
            " |-- Embarked: string (nullable = true)\n",
            "\n"
          ]
        }
      ]
    },
    {
      "cell_type": "code",
      "source": [
        "titanic_df.limit(5)"
      ],
      "metadata": {
        "colab": {
          "base_uri": "https://localhost:8080/",
          "height": 161
        },
        "id": "Qc5wYxuunQw0",
        "outputId": "84b41e69-a89d-4fd2-863b-1033ef46aa9a"
      },
      "execution_count": 52,
      "outputs": [
        {
          "output_type": "execute_result",
          "data": {
            "text/plain": [
              "+-----------+--------+------+--------------------+------+----+-----+-----+----------------+-------+-----+--------+\n",
              "|PassengerId|Survived|Pclass|                Name|   Sex| Age|SibSp|Parch|          Ticket|   Fare|Cabin|Embarked|\n",
              "+-----------+--------+------+--------------------+------+----+-----+-----+----------------+-------+-----+--------+\n",
              "|          1|       0|     3|Braund, Mr. Owen ...|  male|22.0|    1|    0|       A/5 21171|   7.25| null|       S|\n",
              "|          2|       1|     1|Cumings, Mrs. Joh...|female|38.0|    1|    0|        PC 17599|71.2833|  C85|       C|\n",
              "|          3|       1|     3|Heikkinen, Miss. ...|female|26.0|    0|    0|STON/O2. 3101282|  7.925| null|       S|\n",
              "|          4|       1|     1|Futrelle, Mrs. Ja...|female|35.0|    1|    0|          113803|   53.1| C123|       S|\n",
              "|          5|       0|     3|Allen, Mr. Willia...|  male|35.0|    0|    0|          373450|   8.05| null|       S|\n",
              "+-----------+--------+------+--------------------+------+----+-----+-----+----------------+-------+-----+--------+"
            ],
            "text/html": [
              "<table border='1'>\n",
              "<tr><th>PassengerId</th><th>Survived</th><th>Pclass</th><th>Name</th><th>Sex</th><th>Age</th><th>SibSp</th><th>Parch</th><th>Ticket</th><th>Fare</th><th>Cabin</th><th>Embarked</th></tr>\n",
              "<tr><td>1</td><td>0</td><td>3</td><td>Braund, Mr. Owen ...</td><td>male</td><td>22.0</td><td>1</td><td>0</td><td>A/5 21171</td><td>7.25</td><td>null</td><td>S</td></tr>\n",
              "<tr><td>2</td><td>1</td><td>1</td><td>Cumings, Mrs. Joh...</td><td>female</td><td>38.0</td><td>1</td><td>0</td><td>PC 17599</td><td>71.2833</td><td>C85</td><td>C</td></tr>\n",
              "<tr><td>3</td><td>1</td><td>3</td><td>Heikkinen, Miss. ...</td><td>female</td><td>26.0</td><td>0</td><td>0</td><td>STON/O2. 3101282</td><td>7.925</td><td>null</td><td>S</td></tr>\n",
              "<tr><td>4</td><td>1</td><td>1</td><td>Futrelle, Mrs. Ja...</td><td>female</td><td>35.0</td><td>1</td><td>0</td><td>113803</td><td>53.1</td><td>C123</td><td>S</td></tr>\n",
              "<tr><td>5</td><td>0</td><td>3</td><td>Allen, Mr. Willia...</td><td>male</td><td>35.0</td><td>0</td><td>0</td><td>373450</td><td>8.05</td><td>null</td><td>S</td></tr>\n",
              "</table>\n"
            ]
          },
          "metadata": {},
          "execution_count": 52
        }
      ]
    },
    {
      "cell_type": "code",
      "source": [
        "titanic_df.select('PassengerId', 'Survived').limit(5)"
      ],
      "metadata": {
        "colab": {
          "base_uri": "https://localhost:8080/",
          "height": 161
        },
        "id": "7T8AL6H0neu6",
        "outputId": "aa6a0569-1715-4ba3-9b42-0058781fa432"
      },
      "execution_count": 53,
      "outputs": [
        {
          "output_type": "execute_result",
          "data": {
            "text/plain": [
              "+-----------+--------+\n",
              "|PassengerId|Survived|\n",
              "+-----------+--------+\n",
              "|          1|       0|\n",
              "|          2|       1|\n",
              "|          3|       1|\n",
              "|          4|       1|\n",
              "|          5|       0|\n",
              "+-----------+--------+"
            ],
            "text/html": [
              "<table border='1'>\n",
              "<tr><th>PassengerId</th><th>Survived</th></tr>\n",
              "<tr><td>1</td><td>0</td></tr>\n",
              "<tr><td>2</td><td>1</td></tr>\n",
              "<tr><td>3</td><td>1</td></tr>\n",
              "<tr><td>4</td><td>1</td></tr>\n",
              "<tr><td>5</td><td>0</td></tr>\n",
              "</table>\n"
            ]
          },
          "metadata": {},
          "execution_count": 53
        }
      ]
    },
    {
      "cell_type": "code",
      "source": [
        "titanic_df.where((titanic_df.Age > 25) & (titanic_df.Survived == 1)).limit(5)"
      ],
      "metadata": {
        "colab": {
          "base_uri": "https://localhost:8080/",
          "height": 161
        },
        "id": "s42BG1blnfCO",
        "outputId": "ec25612e-fd89-4b0f-893c-7b319a4fb14a"
      },
      "execution_count": 54,
      "outputs": [
        {
          "output_type": "execute_result",
          "data": {
            "text/plain": [
              "+-----------+--------+------+--------------------+------+----+-----+-----+----------------+-------+-----+--------+\n",
              "|PassengerId|Survived|Pclass|                Name|   Sex| Age|SibSp|Parch|          Ticket|   Fare|Cabin|Embarked|\n",
              "+-----------+--------+------+--------------------+------+----+-----+-----+----------------+-------+-----+--------+\n",
              "|          2|       1|     1|Cumings, Mrs. Joh...|female|38.0|    1|    0|        PC 17599|71.2833|  C85|       C|\n",
              "|          3|       1|     3|Heikkinen, Miss. ...|female|26.0|    0|    0|STON/O2. 3101282|  7.925| null|       S|\n",
              "|          4|       1|     1|Futrelle, Mrs. Ja...|female|35.0|    1|    0|          113803|   53.1| C123|       S|\n",
              "|          9|       1|     3|Johnson, Mrs. Osc...|female|27.0|    0|    2|          347742|11.1333| null|       S|\n",
              "|         12|       1|     1|Bonnell, Miss. El...|female|58.0|    0|    0|          113783|  26.55| C103|       S|\n",
              "+-----------+--------+------+--------------------+------+----+-----+-----+----------------+-------+-----+--------+"
            ],
            "text/html": [
              "<table border='1'>\n",
              "<tr><th>PassengerId</th><th>Survived</th><th>Pclass</th><th>Name</th><th>Sex</th><th>Age</th><th>SibSp</th><th>Parch</th><th>Ticket</th><th>Fare</th><th>Cabin</th><th>Embarked</th></tr>\n",
              "<tr><td>2</td><td>1</td><td>1</td><td>Cumings, Mrs. Joh...</td><td>female</td><td>38.0</td><td>1</td><td>0</td><td>PC 17599</td><td>71.2833</td><td>C85</td><td>C</td></tr>\n",
              "<tr><td>3</td><td>1</td><td>3</td><td>Heikkinen, Miss. ...</td><td>female</td><td>26.0</td><td>0</td><td>0</td><td>STON/O2. 3101282</td><td>7.925</td><td>null</td><td>S</td></tr>\n",
              "<tr><td>4</td><td>1</td><td>1</td><td>Futrelle, Mrs. Ja...</td><td>female</td><td>35.0</td><td>1</td><td>0</td><td>113803</td><td>53.1</td><td>C123</td><td>S</td></tr>\n",
              "<tr><td>9</td><td>1</td><td>3</td><td>Johnson, Mrs. Osc...</td><td>female</td><td>27.0</td><td>0</td><td>2</td><td>347742</td><td>11.1333</td><td>null</td><td>S</td></tr>\n",
              "<tr><td>12</td><td>1</td><td>1</td><td>Bonnell, Miss. El...</td><td>female</td><td>58.0</td><td>0</td><td>0</td><td>113783</td><td>26.55</td><td>C103</td><td>S</td></tr>\n",
              "</table>\n"
            ]
          },
          "metadata": {},
          "execution_count": 54
        }
      ]
    },
    {
      "cell_type": "code",
      "source": [
        "titanic_df.agg({'Fare':'avg'})"
      ],
      "metadata": {
        "colab": {
          "base_uri": "https://localhost:8080/",
          "height": 68
        },
        "id": "QlHXlOV5nfEa",
        "outputId": "04d0b06f-7431-458b-ae9d-13694ea75002"
      },
      "execution_count": 55,
      "outputs": [
        {
          "output_type": "execute_result",
          "data": {
            "text/plain": [
              "+----------------+\n",
              "|       avg(Fare)|\n",
              "+----------------+\n",
              "|32.2042079685746|\n",
              "+----------------+"
            ],
            "text/html": [
              "<table border='1'>\n",
              "<tr><th>avg(Fare)</th></tr>\n",
              "<tr><td>32.2042079685746</td></tr>\n",
              "</table>\n"
            ]
          },
          "metadata": {},
          "execution_count": 55
        }
      ]
    },
    {
      "cell_type": "code",
      "source": [
        "titanic_df.groupBy('Pclass').agg({'Fare':'avg'}).orderBy('Pclass', ascending=False)"
      ],
      "metadata": {
        "colab": {
          "base_uri": "https://localhost:8080/",
          "height": 114
        },
        "id": "-oUcj71VnfHO",
        "outputId": "a3377132-8095-4d1b-d10b-4095da66a8ac"
      },
      "execution_count": 56,
      "outputs": [
        {
          "output_type": "execute_result",
          "data": {
            "text/plain": [
              "+------+------------------+\n",
              "|Pclass|         avg(Fare)|\n",
              "+------+------------------+\n",
              "|     3|13.675550101832997|\n",
              "|     2| 20.66218315217391|\n",
              "|     1| 84.15468749999992|\n",
              "+------+------------------+"
            ],
            "text/html": [
              "<table border='1'>\n",
              "<tr><th>Pclass</th><th>avg(Fare)</th></tr>\n",
              "<tr><td>3</td><td>13.675550101832997</td></tr>\n",
              "<tr><td>2</td><td>20.66218315217391</td></tr>\n",
              "<tr><td>1</td><td>84.15468749999992</td></tr>\n",
              "</table>\n"
            ]
          },
          "metadata": {},
          "execution_count": 56
        }
      ]
    },
    {
      "cell_type": "code",
      "source": [
        "titanic_df.filter(titanic_df.Age > 25).agg({'Fare':'avg'})"
      ],
      "metadata": {
        "colab": {
          "base_uri": "https://localhost:8080/",
          "height": 68
        },
        "id": "UYMFu9menuRD",
        "outputId": "0c1abcbd-5808-4d64-eae8-a2a62e1c1b83"
      },
      "execution_count": 57,
      "outputs": [
        {
          "output_type": "execute_result",
          "data": {
            "text/plain": [
              "+-----------------+\n",
              "|        avg(Fare)|\n",
              "+-----------------+\n",
              "|37.61960169491524|\n",
              "+-----------------+"
            ],
            "text/html": [
              "<table border='1'>\n",
              "<tr><th>avg(Fare)</th></tr>\n",
              "<tr><td>37.61960169491524</td></tr>\n",
              "</table>\n"
            ]
          },
          "metadata": {},
          "execution_count": 57
        }
      ]
    },
    {
      "cell_type": "code",
      "source": [
        "from pyspark.sql.types import IntegerType\n",
        "from pyspark.sql.functions import udf\n",
        "\n",
        "def round_float_down(x):\n",
        "  return int(x)\n",
        "\n",
        "round_float_down_udf = udf(round_float_down, IntegerType())\n",
        "\n",
        "titanic_df.select('PassengerId', 'Fare', round_float_down_udf('Fare').alias('Fare Rounded Down'))"
      ],
      "metadata": {
        "colab": {
          "base_uri": "https://localhost:8080/",
          "height": 529
        },
        "id": "wemDdtZtnwU_",
        "outputId": "71ebe609-8c3f-4c9a-99d9-631978124d4a"
      },
      "execution_count": 59,
      "outputs": [
        {
          "output_type": "execute_result",
          "data": {
            "text/plain": [
              "+-----------+-------+-----------------+\n",
              "|PassengerId|   Fare|Fare Rounded Down|\n",
              "+-----------+-------+-----------------+\n",
              "|          1|   7.25|                7|\n",
              "|          2|71.2833|               71|\n",
              "|          3|  7.925|                7|\n",
              "|          4|   53.1|               53|\n",
              "|          5|   8.05|                8|\n",
              "|          6| 8.4583|                8|\n",
              "|          7|51.8625|               51|\n",
              "|          8| 21.075|               21|\n",
              "|          9|11.1333|               11|\n",
              "|         10|30.0708|               30|\n",
              "|         11|   16.7|               16|\n",
              "|         12|  26.55|               26|\n",
              "|         13|   8.05|                8|\n",
              "|         14| 31.275|               31|\n",
              "|         15| 7.8542|                7|\n",
              "|         16|   16.0|               16|\n",
              "|         17| 29.125|               29|\n",
              "|         18|   13.0|               13|\n",
              "|         19|   18.0|               18|\n",
              "|         20|  7.225|                7|\n",
              "+-----------+-------+-----------------+\n",
              "only showing top 20 rows"
            ],
            "text/html": [
              "<table border='1'>\n",
              "<tr><th>PassengerId</th><th>Fare</th><th>Fare Rounded Down</th></tr>\n",
              "<tr><td>1</td><td>7.25</td><td>7</td></tr>\n",
              "<tr><td>2</td><td>71.2833</td><td>71</td></tr>\n",
              "<tr><td>3</td><td>7.925</td><td>7</td></tr>\n",
              "<tr><td>4</td><td>53.1</td><td>53</td></tr>\n",
              "<tr><td>5</td><td>8.05</td><td>8</td></tr>\n",
              "<tr><td>6</td><td>8.4583</td><td>8</td></tr>\n",
              "<tr><td>7</td><td>51.8625</td><td>51</td></tr>\n",
              "<tr><td>8</td><td>21.075</td><td>21</td></tr>\n",
              "<tr><td>9</td><td>11.1333</td><td>11</td></tr>\n",
              "<tr><td>10</td><td>30.0708</td><td>30</td></tr>\n",
              "<tr><td>11</td><td>16.7</td><td>16</td></tr>\n",
              "<tr><td>12</td><td>26.55</td><td>26</td></tr>\n",
              "<tr><td>13</td><td>8.05</td><td>8</td></tr>\n",
              "<tr><td>14</td><td>31.275</td><td>31</td></tr>\n",
              "<tr><td>15</td><td>7.8542</td><td>7</td></tr>\n",
              "<tr><td>16</td><td>16.0</td><td>16</td></tr>\n",
              "<tr><td>17</td><td>29.125</td><td>29</td></tr>\n",
              "<tr><td>18</td><td>13.0</td><td>13</td></tr>\n",
              "<tr><td>19</td><td>18.0</td><td>18</td></tr>\n",
              "<tr><td>20</td><td>7.225</td><td>7</td></tr>\n",
              "</table>\n",
              "only showing top 20 rows\n"
            ]
          },
          "metadata": {},
          "execution_count": 59
        }
      ]
    },
    {
      "cell_type": "code",
      "source": [
        "titanic_df.createOrReplaceTempView(\"Titanic\")"
      ],
      "metadata": {
        "id": "mbj0-wc8oQS9"
      },
      "execution_count": 60,
      "outputs": []
    },
    {
      "cell_type": "code",
      "source": [
        "spark.sql('select * from Titanic')"
      ],
      "metadata": {
        "colab": {
          "base_uri": "https://localhost:8080/",
          "height": 529
        },
        "id": "Kqn8YYBpoQVS",
        "outputId": "069e1397-3e46-4809-8943-c09ec110abeb"
      },
      "execution_count": 61,
      "outputs": [
        {
          "output_type": "execute_result",
          "data": {
            "text/plain": [
              "+-----------+--------+------+--------------------+------+----+-----+-----+----------------+-------+-----+--------+\n",
              "|PassengerId|Survived|Pclass|                Name|   Sex| Age|SibSp|Parch|          Ticket|   Fare|Cabin|Embarked|\n",
              "+-----------+--------+------+--------------------+------+----+-----+-----+----------------+-------+-----+--------+\n",
              "|          1|       0|     3|Braund, Mr. Owen ...|  male|22.0|    1|    0|       A/5 21171|   7.25| null|       S|\n",
              "|          2|       1|     1|Cumings, Mrs. Joh...|female|38.0|    1|    0|        PC 17599|71.2833|  C85|       C|\n",
              "|          3|       1|     3|Heikkinen, Miss. ...|female|26.0|    0|    0|STON/O2. 3101282|  7.925| null|       S|\n",
              "|          4|       1|     1|Futrelle, Mrs. Ja...|female|35.0|    1|    0|          113803|   53.1| C123|       S|\n",
              "|          5|       0|     3|Allen, Mr. Willia...|  male|35.0|    0|    0|          373450|   8.05| null|       S|\n",
              "|          6|       0|     3|    Moran, Mr. James|  male|null|    0|    0|          330877| 8.4583| null|       Q|\n",
              "|          7|       0|     1|McCarthy, Mr. Tim...|  male|54.0|    0|    0|           17463|51.8625|  E46|       S|\n",
              "|          8|       0|     3|Palsson, Master. ...|  male| 2.0|    3|    1|          349909| 21.075| null|       S|\n",
              "|          9|       1|     3|Johnson, Mrs. Osc...|female|27.0|    0|    2|          347742|11.1333| null|       S|\n",
              "|         10|       1|     2|Nasser, Mrs. Nich...|female|14.0|    1|    0|          237736|30.0708| null|       C|\n",
              "|         11|       1|     3|Sandstrom, Miss. ...|female| 4.0|    1|    1|         PP 9549|   16.7|   G6|       S|\n",
              "|         12|       1|     1|Bonnell, Miss. El...|female|58.0|    0|    0|          113783|  26.55| C103|       S|\n",
              "|         13|       0|     3|Saundercock, Mr. ...|  male|20.0|    0|    0|       A/5. 2151|   8.05| null|       S|\n",
              "|         14|       0|     3|Andersson, Mr. An...|  male|39.0|    1|    5|          347082| 31.275| null|       S|\n",
              "|         15|       0|     3|Vestrom, Miss. Hu...|female|14.0|    0|    0|          350406| 7.8542| null|       S|\n",
              "|         16|       1|     2|Hewlett, Mrs. (Ma...|female|55.0|    0|    0|          248706|   16.0| null|       S|\n",
              "|         17|       0|     3|Rice, Master. Eugene|  male| 2.0|    4|    1|          382652| 29.125| null|       Q|\n",
              "|         18|       1|     2|Williams, Mr. Cha...|  male|null|    0|    0|          244373|   13.0| null|       S|\n",
              "|         19|       0|     3|Vander Planke, Mr...|female|31.0|    1|    0|          345763|   18.0| null|       S|\n",
              "|         20|       1|     3|Masselmani, Mrs. ...|female|null|    0|    0|            2649|  7.225| null|       C|\n",
              "+-----------+--------+------+--------------------+------+----+-----+-----+----------------+-------+-----+--------+\n",
              "only showing top 20 rows"
            ],
            "text/html": [
              "<table border='1'>\n",
              "<tr><th>PassengerId</th><th>Survived</th><th>Pclass</th><th>Name</th><th>Sex</th><th>Age</th><th>SibSp</th><th>Parch</th><th>Ticket</th><th>Fare</th><th>Cabin</th><th>Embarked</th></tr>\n",
              "<tr><td>1</td><td>0</td><td>3</td><td>Braund, Mr. Owen ...</td><td>male</td><td>22.0</td><td>1</td><td>0</td><td>A/5 21171</td><td>7.25</td><td>null</td><td>S</td></tr>\n",
              "<tr><td>2</td><td>1</td><td>1</td><td>Cumings, Mrs. Joh...</td><td>female</td><td>38.0</td><td>1</td><td>0</td><td>PC 17599</td><td>71.2833</td><td>C85</td><td>C</td></tr>\n",
              "<tr><td>3</td><td>1</td><td>3</td><td>Heikkinen, Miss. ...</td><td>female</td><td>26.0</td><td>0</td><td>0</td><td>STON/O2. 3101282</td><td>7.925</td><td>null</td><td>S</td></tr>\n",
              "<tr><td>4</td><td>1</td><td>1</td><td>Futrelle, Mrs. Ja...</td><td>female</td><td>35.0</td><td>1</td><td>0</td><td>113803</td><td>53.1</td><td>C123</td><td>S</td></tr>\n",
              "<tr><td>5</td><td>0</td><td>3</td><td>Allen, Mr. Willia...</td><td>male</td><td>35.0</td><td>0</td><td>0</td><td>373450</td><td>8.05</td><td>null</td><td>S</td></tr>\n",
              "<tr><td>6</td><td>0</td><td>3</td><td>Moran, Mr. James</td><td>male</td><td>null</td><td>0</td><td>0</td><td>330877</td><td>8.4583</td><td>null</td><td>Q</td></tr>\n",
              "<tr><td>7</td><td>0</td><td>1</td><td>McCarthy, Mr. Tim...</td><td>male</td><td>54.0</td><td>0</td><td>0</td><td>17463</td><td>51.8625</td><td>E46</td><td>S</td></tr>\n",
              "<tr><td>8</td><td>0</td><td>3</td><td>Palsson, Master. ...</td><td>male</td><td>2.0</td><td>3</td><td>1</td><td>349909</td><td>21.075</td><td>null</td><td>S</td></tr>\n",
              "<tr><td>9</td><td>1</td><td>3</td><td>Johnson, Mrs. Osc...</td><td>female</td><td>27.0</td><td>0</td><td>2</td><td>347742</td><td>11.1333</td><td>null</td><td>S</td></tr>\n",
              "<tr><td>10</td><td>1</td><td>2</td><td>Nasser, Mrs. Nich...</td><td>female</td><td>14.0</td><td>1</td><td>0</td><td>237736</td><td>30.0708</td><td>null</td><td>C</td></tr>\n",
              "<tr><td>11</td><td>1</td><td>3</td><td>Sandstrom, Miss. ...</td><td>female</td><td>4.0</td><td>1</td><td>1</td><td>PP 9549</td><td>16.7</td><td>G6</td><td>S</td></tr>\n",
              "<tr><td>12</td><td>1</td><td>1</td><td>Bonnell, Miss. El...</td><td>female</td><td>58.0</td><td>0</td><td>0</td><td>113783</td><td>26.55</td><td>C103</td><td>S</td></tr>\n",
              "<tr><td>13</td><td>0</td><td>3</td><td>Saundercock, Mr. ...</td><td>male</td><td>20.0</td><td>0</td><td>0</td><td>A/5. 2151</td><td>8.05</td><td>null</td><td>S</td></tr>\n",
              "<tr><td>14</td><td>0</td><td>3</td><td>Andersson, Mr. An...</td><td>male</td><td>39.0</td><td>1</td><td>5</td><td>347082</td><td>31.275</td><td>null</td><td>S</td></tr>\n",
              "<tr><td>15</td><td>0</td><td>3</td><td>Vestrom, Miss. Hu...</td><td>female</td><td>14.0</td><td>0</td><td>0</td><td>350406</td><td>7.8542</td><td>null</td><td>S</td></tr>\n",
              "<tr><td>16</td><td>1</td><td>2</td><td>Hewlett, Mrs. (Ma...</td><td>female</td><td>55.0</td><td>0</td><td>0</td><td>248706</td><td>16.0</td><td>null</td><td>S</td></tr>\n",
              "<tr><td>17</td><td>0</td><td>3</td><td>Rice, Master. Eugene</td><td>male</td><td>2.0</td><td>4</td><td>1</td><td>382652</td><td>29.125</td><td>null</td><td>Q</td></tr>\n",
              "<tr><td>18</td><td>1</td><td>2</td><td>Williams, Mr. Cha...</td><td>male</td><td>null</td><td>0</td><td>0</td><td>244373</td><td>13.0</td><td>null</td><td>S</td></tr>\n",
              "<tr><td>19</td><td>0</td><td>3</td><td>Vander Planke, Mr...</td><td>female</td><td>31.0</td><td>1</td><td>0</td><td>345763</td><td>18.0</td><td>null</td><td>S</td></tr>\n",
              "<tr><td>20</td><td>1</td><td>3</td><td>Masselmani, Mrs. ...</td><td>female</td><td>null</td><td>0</td><td>0</td><td>2649</td><td>7.225</td><td>null</td><td>C</td></tr>\n",
              "</table>\n",
              "only showing top 20 rows\n"
            ]
          },
          "metadata": {},
          "execution_count": 61
        }
      ]
    },
    {
      "cell_type": "code",
      "source": [
        ""
      ],
      "metadata": {
        "id": "G7r1HyLIoQX6"
      },
      "execution_count": null,
      "outputs": []
    }
  ]
}